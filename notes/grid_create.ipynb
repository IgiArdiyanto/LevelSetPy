{
 "cells": [
  {
   "cell_type": "markdown",
   "id": "f9e77729-0624-4aaa-90e1-6306e4ff37ee",
   "metadata": {},
   "source": [
    "### Implements algorithm 1 in the parti-game [paper](https://link.springer.com/content/pdf/10.1007/BF00993591.pdf)\n",
    "\n",
    "Learn a controller from a start region to a goal region on a continuous space; Four increasingly effective algorithms to partition discrete state spaces. Algorithm 1 and 2 are non-learning; 3 and 4 learn, hence explore, the world while planning a route to the goal. Here, I implement algorithm 1"
   ]
  },
  {
   "cell_type": "code",
   "execution_count": 2,
   "id": "3d1a5f7f-62bd-4637-9bbf-74ff806564f5",
   "metadata": {},
   "outputs": [],
   "source": [
    "import sys\n",
    "import numpy as np\n",
    "from os.path import abspath, join\n",
    "sys.path.append(abspath(join('..')))\n",
    "sys.path.append(abspath(join('..', 'grids')))\n",
    "sys.path.append(abspath(join('..', 'utils')))\n",
    "sys.path.append(abspath(join('..', 'Visualization')))\n",
    "sys.path.append(abspath(join('..')))\n",
    "\n",
    "from grids import *\n",
    "import matplotlib.pyplot as plt\n",
    "from gen_utils import *\n",
    "from BoundaryCondition import *\n",
    "from Visualization import Visualizer\n",
    "from valFuncs import proj\n",
    "%matplotlib inline"
   ]
  },
  {
   "cell_type": "code",
   "execution_count": 3,
   "id": "65879054-c39c-4204-9b76-1c5f03cc9787",
   "metadata": {},
   "outputs": [
    {
     "name": "stderr",
     "output_type": "stream",
     "text": [
      "Did notcheck if entries are function handles\n"
     ]
    }
   ],
   "source": [
    "from math import pi\n",
    "\n",
    "grid_min = expand(np.array((-5, -5, -pi)), ax = 1); # Lower corner of computation domain\n",
    "grid_max = expand(np.array((5, 5, pi)), ax = 1);   # Upper corner of computation domain\n",
    "N = expand(np.array((41, 41,  41)), ax = 1);        # Number of grid points per dimension\n",
    "pdDims = 3;               # 3rd dimension is periodic\n",
    "g = createGrid(grid_min, grid_max, N, pdDims);"
   ]
  },
  {
   "cell_type": "code",
   "execution_count": 4,
   "id": "03e984f0-7c67-4d93-b369-fc92353b52ae",
   "metadata": {},
   "outputs": [
    {
     "data": {
      "text/plain": [
       "<Figure size 2160x1296 with 0 Axes>"
      ]
     },
     "metadata": {},
     "output_type": "display_data"
    },
    {
     "data": {
      "image/png": "[encoded data removed]",
      "text/plain": [
       "<Figure size 432x288 with 3 Axes>"
      ]
     },
     "metadata": {
      "needs_background": "light"
     },
     "output_type": "display_data"
    }
   ],
   "source": [
    "viz = Visualizer(winsize=(30, 18), fontdict={'fontsize':12, 'fontweight':'bold'})\n",
    "viz.visGrid(g, 'red')"
   ]
  },
  {
   "cell_type": "code",
   "execution_count": 5,
   "id": "bc1cc5c4-62d2-4c04-999a-e7994a656bf2",
   "metadata": {},
   "outputs": [],
   "source": [
    "def sepGrid(g, dims):\n",
    "    \"\"\"\n",
    "        gs = sepGrid(g, dims)\n",
    "       Separates a grid into the different dimensions specified in dims\n",
    "\n",
    "     Inputs:\n",
    "       g    - grid\n",
    "       dims - cell structure of grid dimensions\n",
    "                eg. {[1 3], [2 4]} would split the grid into two; one grid in\n",
    "                    the 1st and 3rd dimensions, and another in the 2nd and 4th\n",
    "                    dimensions\n",
    "\n",
    "     Output:\n",
    "       gs - cell vector of separated grids\n",
    "   \"\"\"\n",
    "    gs = [[] for  i in range(len(dims))]\n",
    "    #dims = [[0, 2], [1, 3]]\n",
    "    for i in range(len(gs)):\n",
    "        dims_i = ones(1, g.dim);\n",
    "        for j in dims[i]:\n",
    "            dims_i[0, j] = 0\n",
    "        gs[i] = proj(g, None, dims_i);\n",
    "\n",
    "    return gs"
   ]
  },
  {
   "cell_type": "code",
   "execution_count": 6,
   "id": "15d02353-5f57-40b8-b01a-a012e75afc21",
   "metadata": {},
   "outputs": [
    {
     "name": "stderr",
     "output_type": "stream",
     "text": [
      "Did notcheck if entries are function handles\n"
     ]
    },
    {
     "ename": "NameError",
     "evalue": "name 'gs' is not defined",
     "output_type": "error",
     "traceback": [
      "\u001b[0;31m---------------------------------------------------------------------------\u001b[0m",
      "\u001b[0;31mNameError\u001b[0m                                 Traceback (most recent call last)",
      "\u001b[0;32m<ipython-input-6-7a3a7423f83c>\u001b[0m in \u001b[0;36m<module>\u001b[0;34m\u001b[0m\n\u001b[1;32m      6\u001b[0m \u001b[0;34m\u001b[0m\u001b[0m\n\u001b[1;32m      7\u001b[0m \u001b[0;34m\u001b[0m\u001b[0m\n\u001b[0;32m----> 8\u001b[0;31m \u001b[0mgs\u001b[0m \u001b[0;34m=\u001b[0m \u001b[0msepGrid\u001b[0m\u001b[0;34m(\u001b[0m\u001b[0mg\u001b[0m\u001b[0;34m,\u001b[0m \u001b[0;34m[\u001b[0m\u001b[0;34m[\u001b[0m\u001b[0;36m0\u001b[0m\u001b[0;34m,\u001b[0m \u001b[0;36m2\u001b[0m\u001b[0;34m]\u001b[0m\u001b[0;34m,\u001b[0m \u001b[0;34m[\u001b[0m\u001b[0;36m1\u001b[0m\u001b[0;34m,\u001b[0m \u001b[0;36m3\u001b[0m\u001b[0;34m]\u001b[0m\u001b[0;34m]\u001b[0m\u001b[0;34m)\u001b[0m\u001b[0;34m;\u001b[0m\u001b[0;34m\u001b[0m\u001b[0;34m\u001b[0m\u001b[0m\n\u001b[0m\u001b[1;32m      9\u001b[0m \u001b[0;31m# Visualize\u001b[0m\u001b[0;34m\u001b[0m\u001b[0;34m\u001b[0m\u001b[0;34m\u001b[0m\u001b[0m\n\u001b[1;32m     10\u001b[0m \u001b[0mcolors\u001b[0m \u001b[0;34m=\u001b[0m \u001b[0;34m[\u001b[0m\u001b[0;34m'blue'\u001b[0m\u001b[0;34m,\u001b[0m \u001b[0;34m'red'\u001b[0m\u001b[0;34m,\u001b[0m \u001b[0;34m]\u001b[0m\u001b[0;34m;\u001b[0m\u001b[0;34m\u001b[0m\u001b[0;34m\u001b[0m\u001b[0m\n",
      "\u001b[0;32m<ipython-input-5-1b609a190eba>\u001b[0m in \u001b[0;36msepGrid\u001b[0;34m(g, dims)\u001b[0m\n\u001b[1;32m     16\u001b[0m     \u001b[0;31m#gs = [[] for  i in range(len(dims))]\u001b[0m\u001b[0;34m\u001b[0m\u001b[0;34m\u001b[0m\u001b[0;34m\u001b[0m\u001b[0m\n\u001b[1;32m     17\u001b[0m     \u001b[0;31m#dims = [[0, 2], [1, 3]]\u001b[0m\u001b[0;34m\u001b[0m\u001b[0;34m\u001b[0m\u001b[0;34m\u001b[0m\u001b[0m\n\u001b[0;32m---> 18\u001b[0;31m     \u001b[0;32mfor\u001b[0m \u001b[0mi\u001b[0m \u001b[0;32min\u001b[0m \u001b[0mrange\u001b[0m\u001b[0;34m(\u001b[0m\u001b[0mlen\u001b[0m\u001b[0;34m(\u001b[0m\u001b[0mgs\u001b[0m\u001b[0;34m)\u001b[0m\u001b[0;34m)\u001b[0m\u001b[0;34m:\u001b[0m\u001b[0;34m\u001b[0m\u001b[0;34m\u001b[0m\u001b[0m\n\u001b[0m\u001b[1;32m     19\u001b[0m         \u001b[0mdims_i\u001b[0m \u001b[0;34m=\u001b[0m \u001b[0mones\u001b[0m\u001b[0;34m(\u001b[0m\u001b[0;36m1\u001b[0m\u001b[0;34m,\u001b[0m \u001b[0mg\u001b[0m\u001b[0;34m.\u001b[0m\u001b[0mdim\u001b[0m\u001b[0;34m)\u001b[0m\u001b[0;34m;\u001b[0m\u001b[0;34m\u001b[0m\u001b[0;34m\u001b[0m\u001b[0m\n\u001b[1;32m     20\u001b[0m         \u001b[0;32mfor\u001b[0m \u001b[0mj\u001b[0m \u001b[0;32min\u001b[0m \u001b[0mdims\u001b[0m\u001b[0;34m[\u001b[0m\u001b[0mi\u001b[0m\u001b[0;34m]\u001b[0m\u001b[0;34m:\u001b[0m\u001b[0;34m\u001b[0m\u001b[0;34m\u001b[0m\u001b[0m\n",
      "\u001b[0;31mNameError\u001b[0m: name 'gs' is not defined"
     ]
    }
   ],
   "source": [
    "# def sepGrid_test():\n",
    "gridIn=expand(np.array((0, 1, 0, 1)), 1)\n",
    "gridOut =expand(np.array((1, 2, 1, 2)), 1)\n",
    "N = 45*ones(4,1).astype(np.int64)\n",
    "g = createGrid(gridIn, gridOut, N);\n",
    "\n",
    "\n",
    "gs = sepGrid(g, [[0, 2], [1, 3]]);\n",
    "# Visualize\n",
    "colors = ['blue', 'red', ];\n",
    "for i in range(len(gs)):\n",
    "    viz.visGrid(gs[i], colors[i])\n",
    "    \n",
    "dims = [[0, 2], [1, 3]]\n",
    "gs = [[] for  i in range(len(dims))]\n",
    "for i in range(len(gs)):\n",
    "    dims_i = ones(1, g.dim);\n",
    "    for j in dims[i]:\n",
    "        dims_i[0, j] = 0\n",
    "    gs[i]=proj()    "
   ]
  },
  {
   "cell_type": "code",
   "execution_count": 34,
   "id": "fac6cc53-995e-47fa-b7e3-e3a9e926b64d",
   "metadata": {},
   "outputs": [
    {
     "data": {
      "text/plain": [
       "array(True)"
      ]
     },
     "execution_count": 34,
     "metadata": {},
     "output_type": "execute_result"
    }
   ],
   "source": [
    "xs = '100'\n",
    "np.char.isnumeric(xs)"
   ]
  },
  {
   "cell_type": "code",
   "execution_count": null,
   "id": "fd855f40-0c8c-480f-8885-05fac3d07a3d",
   "metadata": {},
   "outputs": [],
   "source": []
  }
 ],
 "metadata": {
  "kernelspec": {
   "display_name": "Python 3",
   "language": "python",
   "name": "python3"
  },
  "language_info": {
   "codemirror_mode": {
    "name": "ipython",
    "version": 3
   },
   "file_extension": ".py",
   "mimetype": "text/x-python",
   "name": "python",
   "nbconvert_exporter": "python",
   "pygments_lexer": "ipython3",
   "version": "3.7.10"
  }
 },
 "nbformat": 4,
 "nbformat_minor": 5
}
