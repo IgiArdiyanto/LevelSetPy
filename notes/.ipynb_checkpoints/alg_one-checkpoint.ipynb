{
 "cells": [
  {
   "cell_type": "markdown",
   "id": "6d1f018b-8abb-4633-ba5b-d6552c09e9c5",
   "metadata": {},
   "source": [
    "### Implements algorithm 1 in the parti-game [paper](https://link.springer.com/content/pdf/10.1007/BF00993591.pdf)\n",
    "\n",
    "Learn a controller from a start region to a goal region on a continuous space; Four increasingly effective algorithms to partition discrete state spaces. Algorithm 1 and 2 are non-learning; 3 and 4 learn, hence explore, the world while planning a route to the goal. Here, I implement algorithm 1"
   ]
  },
  {
   "cell_type": "code",
   "execution_count": 1,
   "id": "90777b02-daa8-4888-a211-241eb6961a13",
   "metadata": {},
   "outputs": [],
   "source": [
    "import sys\n",
    "import numpy as np\n",
    "from os.path import abspath, join\n",
    "sys.path.append(abspath(join('..')))\n",
    "sys.path.append(abspath(join('..', 'DynamicalSystems')))\n",
    "sys.path.append(abspath(join('..', 'grids')))\n",
    "sys.path.append(abspath(join('..', 'utils')))\n",
    "sys.path.append(abspath(join('..', 'Visualization')))\n",
    "sys.path.append(abspath(join('..')))\n",
    "\n",
    "from grids import *\n",
    "import matplotlib.pyplot as plt\n",
    "from gen_utils import *\n",
    "from BoundaryCondition import *\n",
    "from DynamicalSystems import *\n",
    "from Visualization import Visualizer\n",
    "from valFuncs import proj\n",
    "%matplotlib inline"
   ]
  },
  {
   "cell_type": "code",
   "execution_count": 2,
   "id": "536a0143-3286-4eb7-8597-13ee282b169f",
   "metadata": {},
   "outputs": [
    {
     "name": "stderr",
     "output_type": "stream",
     "text": [
      "Grid dimension > 5, may be dangerously large\n"
     ]
    }
   ],
   "source": [
    "#Given N cells, construct an MDT with N discrete states 1, ..., N.\n",
    "\n",
    "N = 6\n",
    "\n",
    "# make a 6 cell grid\n",
    "gridIn=expand(np.array((0, 1, 0, 1, 0, 1)), 1)\n",
    "gridOut =expand(np.array((1, 2, 1, 2, 1, 2)), 1)\n",
    "num_points = 30\n",
    "N = num_points*ones(6,1).astype(np.int64)\n",
    "\n",
    "g = createGrid(gridIn, gridOut, N, process=True, low_mem=False);\n",
    "\n",
    "# print(f'len(g.xs), g.xs[0].shape {len(g.xs), g.xs[0].shape} g.N {g.N.shape}')\n",
    "dims = [[0, 4], [1, 5], [2, 3]]\n",
    "\n",
    "bounds = [np.linspace(0, 1, 3), np.linspace(1, 2, 4), np.linspace(2, 3, 3), np.linspace(3, 4, 4)]\n",
    "        \n",
    "if g.dim > 1:\n",
    "    bounds_grid = np.meshgrid(*bounds, sparse=False);\n",
    "else:\n",
    "    bounds_grid = np.meshgrid(bounds)[0]"
   ]
  },
  {
   "cell_type": "code",
   "execution_count": 3,
   "id": "a5867b8c-6b4c-46c0-ac3b-de117e2b8d74",
   "metadata": {},
   "outputs": [],
   "source": [
    "N = 4\n",
    "\n",
    "# make a 6 cell grid\n",
    "gridIn=expand(np.array((0, 0)), 1)\n",
    "gridOut =expand(np.array((1, 1)), 1)\n",
    "num_points = 30\n",
    "N = num_points*ones(2,1).astype(np.int64)\n",
    "\n",
    "g = createGrid(gridIn, gridOut, N, process=True, low_mem=False);\n",
    "\n",
    "bounds = [[0, 0.5, 1], [0, 0.25, 0.75, 1]]\n",
    "padding = np.array(([[0.1, 0.2]])).T\n",
    "\n",
    "if g.dim > 1:\n",
    "    bounds_grid = np.meshgrid(*bounds, sparse=False, indexing='ij');\n",
    "else:\n",
    "    bounds_grid = np.meshgrid(bounds)[0]\n",
    "\n",
    "bds_grd = bounds_grid[0]\n",
    "bds_grd_shp = np.array(bds_grd.shape)\n",
    "\n",
    "gs = bds_grd_shp-(bds_grd_shp>1)\n",
    "gs = np.empty(gs)"
   ]
  },
  {
   "cell_type": "code",
   "execution_count": 26,
   "id": "666b42a9-3917-47c3-b099-de9fdaeb8dec",
   "metadata": {},
   "outputs": [
    {
     "data": {
      "text/plain": [
       "True"
      ]
     },
     "execution_count": 26,
     "metadata": {},
     "output_type": "execute_result"
    }
   ],
   "source": [
    "a = np.array([1, 3, 3])\n",
    "b = a[a==3]\n",
    "np.any(b)"
   ]
  },
  {
   "cell_type": "code",
   "execution_count": 11,
   "id": "4176aa68-107b-432b-b71c-84ac79d604a9",
   "metadata": {},
   "outputs": [],
   "source": [
    "class Bundle(object):\n",
    "    def __init__(self, dicko):\n",
    "        for var, val in dicko.items():\n",
    "            object.__setattr__(self, var, val)\n",
    "\n",
    "    def dtype(self):\n",
    "        return 'Bundle'"
   ]
  },
  {
   "cell_type": "code",
   "execution_count": 12,
   "id": "4b147ba8-c886-4cc5-b529-027e054e231d",
   "metadata": {},
   "outputs": [],
   "source": [
    "k = Bundle(dict(a = 0))"
   ]
  },
  {
   "cell_type": "code",
   "execution_count": 13,
   "id": "7e18b42d-1701-4055-b1f8-cb50242b3dc8",
   "metadata": {},
   "outputs": [
    {
     "ename": "AttributeError",
     "evalue": "'Bundle' object has no attribute 'dtype'",
     "output_type": "error",
     "traceback": [
      "\u001b[0;31m---------------------------------------------------------------------------\u001b[0m",
      "\u001b[0;31mAttributeError\u001b[0m                            Traceback (most recent call last)",
      "\u001b[0;32m<ipython-input-13-d171d2c54d15>\u001b[0m in \u001b[0;36m<module>\u001b[0;34m\u001b[0m\n\u001b[0;32m----> 1\u001b[0;31m \u001b[0mtype\u001b[0m\u001b[0;34m(\u001b[0m\u001b[0mk\u001b[0m\u001b[0;34m)\u001b[0m\u001b[0;34m,\u001b[0m \u001b[0mk\u001b[0m\u001b[0;34m.\u001b[0m\u001b[0mdtype\u001b[0m\u001b[0;34m\u001b[0m\u001b[0;34m\u001b[0m\u001b[0m\n\u001b[0m",
      "\u001b[0;31mAttributeError\u001b[0m: 'Bundle' object has no attribute 'dtype'"
     ]
    }
   ],
   "source": [
    "type(k), k.dtype"
   ]
  },
  {
   "cell_type": "code",
   "execution_count": null,
   "id": "e058309f-5cf0-4d49-b567-048b1865282c",
   "metadata": {},
   "outputs": [],
   "source": []
  }
 ],
 "metadata": {
  "kernelspec": {
   "display_name": "Python 3",
   "language": "python",
   "name": "python3"
  },
  "language_info": {
   "codemirror_mode": {
    "name": "ipython",
    "version": 3
   },
   "file_extension": ".py",
   "mimetype": "text/x-python",
   "name": "python",
   "nbconvert_exporter": "python",
   "pygments_lexer": "ipython3",
   "version": "3.7.10"
  }
 },
 "nbformat": 4,
 "nbformat_minor": 5
}
