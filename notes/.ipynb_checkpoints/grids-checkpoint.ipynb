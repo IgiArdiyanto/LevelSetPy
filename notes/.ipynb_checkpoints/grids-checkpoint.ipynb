{
 "cells": [
  {
   "cell_type": "markdown",
   "id": "f9e77729-0624-4aaa-90e1-6306e4ff37ee",
   "metadata": {},
   "source": [
    "### Implements algorithm 1 in the parti-game [paper](https://link.springer.com/content/pdf/10.1007/BF00993591.pdf)\n",
    "\n",
    "Learn a controller from a start region to a goal region on a continuous space; Four increasingly effective algorithms to partition discrete state spaces. Algorithm 1 and 2 are non-learning; 3 and 4 learn, hence explore, the world while planning a route to the goal. Here, I implement algorithm 1"
   ]
  },
  {
   "cell_type": "code",
   "execution_count": 1,
   "id": "3d1a5f7f-62bd-4637-9bbf-74ff806564f5",
   "metadata": {},
   "outputs": [],
   "source": [
    "import sys\n",
    "import numpy as np\n",
    "from os.path import abspath, join\n",
    "sys.path.append(abspath(join('..')))\n",
    "sys.path.append(abspath(join('..', 'grids')))\n",
    "sys.path.append(abspath(join('..', 'utils')))\n",
    "sys.path.append(abspath(join('..', 'Visualization')))\n",
    "sys.path.append(abspath(join('..')))\n",
    "\n",
    "from Grids import *\n",
    "import matplotlib.pyplot as plt\n",
    "from Utilities import *\n",
    "from BoundaryCondition import *\n",
    "from Visualization import *\n",
    "from ValueFuncs import proj\n",
    "from math import pi\n",
    "from InitialConditions import shapeCylinder\n",
    "%matplotlib inline"
   ]
  },
  {
   "cell_type": "markdown",
   "id": "df1c4f77-ecc5-40ee-a76c-7776bade59ea",
   "metadata": {},
   "source": [
    "### A Basic 2-D Grid and a signed distance function cylinder"
   ]
  },
  {
   "cell_type": "code",
   "execution_count": 2,
   "id": "091678cd-2ed4-49ba-9f2e-0573e7dca3a5",
   "metadata": {},
   "outputs": [],
   "source": [
    "from absl import flags, app\n",
    "flags.DEFINE_boolean('verbose', False, 'How much debug info to print.')\n",
    "# General variables now in flags\n",
    "flags.DEFINE_boolean('visualize', True, 'Show plots?')\n",
    "flags.DEFINE_float('pause_time', .1, 'Time to puase between updating the next plot')\n",
    "flags.DEFINE_string('order_type', 'F', 'Use Fortran order or C order for array indexing and memory management.')\n",
    "flags.DEFINE_boolean('hj_progress', False, 'Display optimization progress')\n",
    "\n",
    "FLAGS = flags.FLAGS\n",
    "\n",
    "def run(main=None, argv=None):\n",
    "  args = argv[1:] if argv else None\n",
    "  flags_passthrough = flags.FLAGS._parse_flags(args=args)\n",
    "  main = main or sys.modules['__main__'].main\n",
    "  main(sys.argv[:1] + flags_passthrough)\n",
    "\n",
    "# flags.FLAGS._parse_flags(args=args)"
   ]
  },
  {
   "cell_type": "code",
   "execution_count": null,
   "id": "2823b6d6-e24d-4231-b21b-231fa5366bf6",
   "metadata": {},
   "outputs": [],
   "source": [
    "# def main(argv):\n",
    "from math import pi\n",
    "gridMin = np.array([[0,0]])\n",
    "gridMax = np.array([[5, 5]])\n",
    "N = 20 *np.ones((2,1)).astype(np.int64)\n",
    "g = createGrid(gridMin, gridMax, N, low_mem=False, process=True)\n",
    "\n",
    "viz = Visualizer(winsize=(8, 5))\n",
    "viz.visGrid([g], g.dim, title='Simple 2D Grid')\n",
    "\n",
    "\n",
    "app.run(main)    \n",
    "FLAGS(sys.argv) # we need to explicitly to tell flags library to parse argv before we can access FLAGS.xxx.\n",
    "    "
   ]
  },
  {
   "cell_type": "markdown",
   "id": "efcac922-a8c3-42b7-8882-d6cfc5bd322b",
   "metadata": {},
   "source": [
    "### A 3-D Grid and a signed distance function cylinder"
   ]
  },
  {
   "cell_type": "code",
   "execution_count": null,
   "id": "42c479c6-9ea7-4568-ab9f-ae9f2e555b08",
   "metadata": {},
   "outputs": [],
   "source": [
    "\n",
    "grid_min = expand(np.array((-5, -5, -pi)), ax = 1); # Lower corner of computation domain\n",
    "grid_max = expand(np.array((5, 5, pi)), ax = 1);   # Upper corner of computation domain\n",
    "N = 41*ones(3, 1).astype(np.int64)\n",
    "pdDims = 3;               # 3rd dimension is periodic\n",
    "g = createGrid(grid_min, grid_max, N, pdDims);\n",
    "\n",
    "data0 = shapeCylinder(g, 3, zeros(len(N), 1), radius=1)\n",
    "\n",
    "viz = Visualizer(winsize=(16, 9))\n",
    "viz.visGrid(g, g.dim, title='Simple 3D Grid')"
   ]
  },
  {
   "cell_type": "markdown",
   "id": "a8bc19ca-b5c1-406c-bd38-a33eb0290c55",
   "metadata": {},
   "source": [
    "### A 4-D Grid\n",
    "\n",
    "Split into two; and project the split grids back to 2D "
   ]
  },
  {
   "cell_type": "code",
   "execution_count": null,
   "id": "f55e336a-4307-4a4c-a166-dae77df000b8",
   "metadata": {},
   "outputs": [],
   "source": [
    "# this is same as sepGrid_test\n",
    "num_points=30\n",
    "gridIn=expand(np.array((0, 1, 0, 1)), 1)\n",
    "gridOut =expand(np.array((1, 2, 1, 2)), 1)\n",
    "N = num_points*ones(4,1).astype(np.int64)\n",
    "g = createGrid(gridIn, gridOut, N, process=False, low_mem=True);\n",
    "\n",
    "# print(f'len(g.xs), g.xs[0].shape {len(g.xs), g.xs[0].shape} g.N {g.N.shape}')\n",
    "dims = [[0, 2], [1, 3]]\n",
    "\n",
    "gs, ds = sepGrid(g, dims);\n",
    "\n",
    "# Visualize\n",
    "viz = Visualizer(winsize=(8, 6))\n",
    "viz.visGrid(gs, dim= len(gs), dims=dims, title=f'A {len(gs)}-cell Grid Example')"
   ]
  },
  {
   "cell_type": "markdown",
   "id": "85fd0d1b-0778-4bab-b449-9d531e47261d",
   "metadata": {},
   "source": [
    "### A 4-D Grid Split into 4 subgrids; \n",
    "\n",
    "+ re-projected the split grids back to 2D"
   ]
  },
  {
   "cell_type": "code",
   "execution_count": null,
   "id": "6f94a9ab-9776-4b8f-845b-50e89e9cb592",
   "metadata": {},
   "outputs": [],
   "source": [
    "# 4 subcells grid\n",
    "num_points=30\n",
    "gridIn=expand(np.array((0, 1, 0, 1)), 1)\n",
    "gridOut =expand(np.array((1, 2, 1, 2)), 1)\n",
    "N = num_points*ones(4,1).astype(np.int64)\n",
    "g = createGrid(gridIn, gridOut, N, process=True, low_mem=True);\n",
    "\n",
    "# print(f'len(g.xs), g.xs[0].shape {len(g.xs), g.xs[0].shape} g.N {g.N.shape}')\n",
    "dims = [[0, 2], [1, 2],  [1, 3], [0, 1]]\n",
    "\n",
    "gs, dat = sepGrid(g, dims);\n",
    "\n",
    "viz = Visualizer(winsize=(8, 5))\n",
    "\n",
    "viz.visGrid(gs, len(gs), title=f'A {len(gs)}-cell Grid Example', dims=dims)"
   ]
  },
  {
   "cell_type": "markdown",
   "id": "d8c2610a-8022-4b3d-bf68-0ef93995b18c",
   "metadata": {},
   "source": [
    "### An Eight-Grid Cell\n",
    "\n",
    "+ Be careful with the number of points here \n",
    "+ as too many points can cause memory issues"
   ]
  },
  {
   "cell_type": "code",
   "execution_count": null,
   "id": "b16963f7-33b6-4bee-8f51-83e9f0277f7f",
   "metadata": {},
   "outputs": [],
   "source": [
    "## Cells Division Example | Lekan August 05\n",
    "\n",
    "gridIn= expand(np.array((0, 1, 0, 1, 1, 2, 1, 2)), 1)\n",
    "gridOut =expand(np.array((1, 2, 1, 2, 2, 3, 2, 3)), 1)\n",
    "\n",
    "num_points = 10\n",
    "N = num_points*ones(8,1).astype(np.int64)\n",
    "\n",
    "g = createGrid(gridIn, gridOut, N, process=True);\n",
    "\n",
    "dims = [[0, 2], [1, 2],  [1, 3], [0, 1]]\n",
    "gs, data = sepGrid(g, dims);\n",
    "print('f num of substructures: {len(gs)}')\n",
    "viz = Visualizer(winsize=(8, 5))\n",
    "viz.visGrid(gs, len(gs), title=f'A {len(N)}-sub-grid Example', dims=dims)"
   ]
  },
  {
   "cell_type": "markdown",
   "id": "1abf003a-1224-46ec-a4fd-48edf216481f",
   "metadata": {},
   "source": [
    "### Making cell partitions in grids"
   ]
  },
  {
   "cell_type": "code",
   "execution_count": null,
   "id": "a010a83d-0f3b-41b1-992e-f776d4ade7cc",
   "metadata": {},
   "outputs": [],
   "source": [
    "# A 2D grid\n",
    "g = createGrid(np.array([[0, 0]]).T, np.array([[1, 1]]).T, np.array([[101, 101]]).T);\n",
    "\n",
    "bounds = [[0, 0.5, 1], [0, 0.25, 0.75, 1]]\n",
    "padding = np.array([[0, 0]]).T;\n",
    "gs = splitGrid_sameDim(g, bounds, padding);\n",
    "\n",
    "viz = Visualizer(winsize=(8, 5))\n",
    "viz.visGrid(gs, gs[0].dim, title=f'A {len(gs)}-cell Grid Example')"
   ]
  },
  {
   "cell_type": "markdown",
   "id": "7ea3e959-8d04-4c6d-883d-f7efa32af716",
   "metadata": {},
   "source": [
    "### A 3D grid with subcells"
   ]
  },
  {
   "cell_type": "code",
   "execution_count": null,
   "id": "84d3cc1a-5f98-4529-88a9-17f2d152bb57",
   "metadata": {},
   "outputs": [],
   "source": [
    "# A 3D grid\n",
    "gmin = zeros(3,1); gmax = ones(3,1); N = 75*ones(3,1)\n",
    "bounds = [[0, 0.33, 0.5, 0.8, 1], [0, 0.5, 0.75, 1], np.linspace(0, 1, 5).tolist()]\n",
    "padding = zeros(3,1)\n",
    "g = createGrid(gmin, gmax, N);\n",
    "gs = splitGrid_sameDim(g, bounds, padding);"
   ]
  },
  {
   "cell_type": "code",
   "execution_count": null,
   "id": "533878be-f605-4490-ab16-7bfc52665be4",
   "metadata": {},
   "outputs": [],
   "source": [
    "viz = Visualizer(winsize=(16, 9))\n",
    "\n",
    "ax = plt.axes(projection='3d')\n",
    "for i in range(len(gs)):\n",
    "    g = gs[i]\n",
    "    #viz.visGrid(gs[i], gs[i].dim, title=f'A {len(gs)}-cell {len(gs)}-Grid Example')\n",
    "    ax.plot3D(g.xs[0].flatten(), g.xs[1].flatten(), g.xs[2].flatten())\n",
    "ax.set_title(f'A {len(gs)}-cell within a {gs[0].dim}-Grid Example')\n",
    "plt.show()"
   ]
  },
  {
   "cell_type": "code",
   "execution_count": null,
   "id": "00079183-905c-4291-85e3-97ed1d1d2923",
   "metadata": {},
   "outputs": [],
   "source": [
    "help(plt.close)"
   ]
  },
  {
   "cell_type": "code",
   "execution_count": null,
   "id": "8db12eec-f008-4172-9b35-b4c2539e94bd",
   "metadata": {},
   "outputs": [],
   "source": []
  }
 ],
 "metadata": {
  "kernelspec": {
   "display_name": "Python 3",
   "language": "python",
   "name": "python3"
  },
  "language_info": {
   "codemirror_mode": {
    "name": "ipython",
    "version": 3
   },
   "file_extension": ".py",
   "mimetype": "text/x-python",
   "name": "python",
   "nbconvert_exporter": "python",
   "pygments_lexer": "ipython3",
   "version": "3.7.10"
  }
 },
 "nbformat": 4,
 "nbformat_minor": 5
}
