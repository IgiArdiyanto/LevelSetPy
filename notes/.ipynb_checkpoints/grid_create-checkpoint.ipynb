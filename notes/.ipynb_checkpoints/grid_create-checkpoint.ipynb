{
 "cells": [
  {
   "cell_type": "markdown",
   "id": "f9e77729-0624-4aaa-90e1-6306e4ff37ee",
   "metadata": {},
   "source": [
    "### Implements algorithm 1 in the parti-game [paper](https://link.springer.com/content/pdf/10.1007/BF00993591.pdf)\n",
    "\n",
    "Learn a controller from a start region to a goal region on a continuous space; Four increasingly effective algorithms to partition discrete state spaces. Algorithm 1 and 2 are non-learning; 3 and 4 learn, hence explore, the world while planning a route to the goal. Here, I implement algorithm 1"
   ]
  },
  {
   "cell_type": "code",
   "execution_count": 2,
   "id": "3d1a5f7f-62bd-4637-9bbf-74ff806564f5",
   "metadata": {},
   "outputs": [],
   "source": [
    "import sys\n",
    "import numpy as np\n",
    "from os.path import abspath, join\n",
    "sys.path.append(abspath(join('..')))\n",
    "sys.path.append(abspath(join('..', 'grids')))\n",
    "sys.path.append(abspath(join('..', 'utils')))\n",
    "sys.path.append(abspath(join('..')))\n",
    "\n",
    "from create_grid import createGrid\n",
    "from process_grid import processGrid\n",
    "import matplotlib.pyplot as plt\n",
    "from gen_utils import *"
   ]
  },
  {
   "cell_type": "code",
   "execution_count": 3,
   "id": "55812922-d3b1-4e99-8c43-9da1407def3f",
   "metadata": {},
   "outputs": [
    {
     "name": "stdout",
     "output_type": "stream",
     "text": [
      "Variable         Type        Data/Info\n",
      "--------------------------------------\n",
      "Bundle           type        <class 'gen_utils.Bundle'>\n",
      "abspath          function    <function abspath at 0x7f3ce0f7b680>\n",
      "cell             function    <function cell at 0x7f3cdf60acb0>\n",
      "createGrid       function    <function createGrid at 0x7f3cdc183560>\n",
      "expand           function    <function expand at 0x7f3cdf60a9e0>\n",
      "isColumnLength   function    <function isColumnLength at 0x7f3cdf60ac20>\n",
      "iscell           function    <function iscell at 0x7f3cdf60ad40>\n",
      "isscalar         function    <function isscalar at 0x7f3cdf60add0>\n",
      "join             function    <function join at 0x7f3ce0f7af80>\n",
      "ndims            function    <function ndims at 0x7f3cdf60ab90>\n",
      "np               module      <module 'numpy' from '/ho<...>kages/numpy/__init__.py'>\n",
      "numDims          function    <function numDims at 0x7f3c98a64f80>\n",
      "ones             function    <function ones at 0x7f3cdf60aa70>\n",
      "plt              module      <module 'matplotlib.pyplo<...>es/matplotlib/pyplot.py'>\n",
      "processGrid      function    <function processGrid at 0x7f3c98ae8d40>\n",
      "sys              module      <module 'sys' (built-in)>\n",
      "zeros            function    <function zeros at 0x7f3cdf60ab00>\n"
     ]
    }
   ],
   "source": [
    "import numpy as np\n",
    "from math import pi\n",
    "from utils import expand, zeros, Bundle\n",
    "from grids import createGrid\n",
    "from valFuncs import proj\n",
    "from visualization import visSetIm\n",
    "import matplotlib.pyplot as plt\n",
    "\n",
    "import logging\n",
    "logger = logging.getLogger(__name__)\n",
    "\n",
    "def tutorial():\n",
    "    \"\"\"\n",
    "      Reproduces Sylvia's Tutorial on BRS\n",
    "         1. Run Backward Reachable Set (BRS) with a goal\n",
    "             uMode = 'min' <-- goal\n",
    "             minWith = 'none' <-- Set (not tube)\n",
    "             compTraj = false <-- no trajectory\n",
    "         2. Run BRS with goal, then optimal trajectory\n",
    "             uMode = 'min' <-- goal\n",
    "             minWith = 'none' <-- Set (not tube)\n",
    "             compTraj = True <-- compute optimal trajectory\n",
    "         3. Run Backward Reachable Tube (BRT) with a goal, then optimal trajectory\n",
    "             uMode = 'min' <-- goal\n",
    "             minWith = 'minVOverTime' <-- Tube (not set)\n",
    "             compTraj = True <-- compute optimal trajectory\n",
    "         4. Add disturbance\n",
    "             dStep1: define a dMax (dMax = [.25, .25, 0];)\n",
    "             dStep2: define a dMode (opposite of uMode)\n",
    "             dStep3: input dMax when creating your DubinsCar\n",
    "             dStep4: add dMode to schemeData\n",
    "         5. Change to an avoid BRT rather than a goal BRT\n",
    "             uMode = 'max' <-- avoid\n",
    "             dMode = 'min' <-- opposite of uMode\n",
    "             minWith = 'minVOverTime' <-- Tube (not set)\n",
    "             compTraj = false <-- no trajectory\n",
    "         6. Change to a Forward Reachable Tube (FRT)\n",
    "             add schemeData.tMode = 'forward'\n",
    "             note: now having uMode = 'max' essentially says \"see how far I can\n",
    "             reach\"\n",
    "         7. Add obstacles\n",
    "             add the following code:\n",
    "             obstacles = shapeCylinder(g, 3, [-1.5; 1.5; 0], 0.75);\n",
    "             HJIextraArgs.obstacles = obstacles;\n",
    "         8. Add random disturbance (white noise)\n",
    "             add the following code:\n",
    "             HJIextraArgs.addGaussianNoiseStandardDeviation = [0; 0; 0.5];\n",
    "    \"\"\"\n",
    "\n",
    "    ## Should we compute the trajectory?\n",
    "    compTraj = True;\n",
    "\n",
    "    ## Grid\n",
    "    grid_min = expand(np.array((-5, -5, -pi)), ax = 1); # Lower corner of computation domain\n",
    "    grid_max = expand(np.array((5, 5, -pi)), ax = 1);   # Upper corner of computation domain\n",
    "    N = expand(np.array((41, 41,  41)), ax = 1);        # Number of grid points per dimension\n",
    "    pdDims = 3;               # 3rd dimension is periodic\n",
    "    g = createGrid(grid_min, grid_max, N, pdDims);\n",
    "    # Use \"g = createGrid(grid_min, grid_max, N);\" if there are no periodic\n",
    "    # state space dimensions\n",
    "\n",
    "    ## target set\n",
    "    R = 1;\n",
    "    # data0 = shapeCylinder(grid,ignoreDims,center,radius)\n",
    "    data0 = shapeCylinder(g, 3, zeros(3, 1), R);\n",
    "    # also try shapeRectangleByCorners, shapeSphere, etc.\n",
    "\n",
    "    ## time vector\n",
    "    t0 = 0;\n",
    "    tMax = 2;\n",
    "    dt = 0.05;\n",
    "    tau = np.arange(t0, tMax+dt, dt); # account for pythonb's 0-indexing\n",
    "\n",
    "    ## problem parameters\n",
    "\n",
    "    # input bounds\n",
    "    speed = 1;\n",
    "    wMax = 1;\n",
    "    # do dStep1 here\n",
    "\n",
    "    # control trying to min or max value function?\n",
    "    uMode = 'min';\n",
    "    # do dStep2 here\n",
    "\n",
    "    ## Pack problem parameters\n",
    "\n",
    "    # Define dynamic system\n",
    "    # obj = DubinsCar(x, wMax, speed, dMax)\n",
    "    dCar = DubinsCar(zeros(1, 3), wMax, speed); #do dStep3 here\n",
    "\n",
    "    # Put grid and dynamic systems into schemeData\n",
    "    scemaData = Bundle(dict(grid = g, dynSys = dCar, accuracy = 'high',\n",
    "                            uMode = uMode))\n",
    "    #do dStep4 here\n",
    "\n",
    "    ## additive random noise\n",
    "    #do Step8 here\n",
    "    #HJIextraArgs.addGaussianNoiseStandardDeviation = [0; 0; 0.5];\n",
    "    # Try other noise coefficients, like:\n",
    "    #    [0.2; 0; 0]; # Noise on X state\n",
    "    #    [0.2,0,0;0,0.2,0;0,0,0.5]; # Independent noise on all states\n",
    "    #    [0.2;0.2;0.5]; # Coupled noise on all states\n",
    "    #    {zeros(size(g.xs{1})); zeros(size(g.xs{1})); (g.xs{1}+g.xs{2})/20}; # State-dependent noise\n",
    "\n",
    "    ## If you have obstacles, compute them here\n",
    "\n",
    "    ## Compute value function\n",
    "    HJIextraArgs = Bundle(dict())\n",
    "    HJIextraArgs.visualize = Bundle(dict())\n",
    "\n",
    "    #HJIextraArgs.visualize = True; #show plot\n",
    "    HJIextraArgs.visualize.valueSet = 1;\n",
    "    HJIextraArgs.visualize.initialValueSet = 1;\n",
    "    HJIextraArgs.visualize.figNum = 1; #set figure number\n",
    "    HJIextraArgs.visualize.deleteLastPlot = True; #delete previous plot as you update\n",
    "\n",
    "    # uncomment if you want to see a 2D slice\n",
    "    # HJIextraArgs.visualize.plotData = Bundle(dict())\n",
    "    #HJIextraArgs.visualize.plotData.plotDims = [1 1 0]; #plot x, y\n",
    "    #HJIextraArgs.visualize.plotData.projpt = [0]; #project at theta = 0\n",
    "    #HJIextraArgs.visualize.viewAngle = [0,90]; # view 2D\n",
    "\n",
    "    #[data, tau, extraOuts] = ...\n",
    "    # HJIPDE_solve(data0, tau, schemeData, minWith, extraArgs)\n",
    "    [data, tau2, _] = HJIPDE_solve(data0, tau, schemeData, 'none', HJIextraArgs);\n",
    "\n",
    "    ## Compute optimal trajectory from some initial state\n",
    "    if compTraj:\n",
    "\n",
    "        #set the initial state\n",
    "        xinit = expand(np.array((2, 2, -pi)), 0)\n",
    "\n",
    "        #check if this initial state is in the BRS/BRT\n",
    "        #value = eval_u(g, data, x)\n",
    "        value = eval_u(g,data[:,:,:,-1],xinit);\n",
    "\n",
    "        if value <= 0: #if initial state is in BRS/BRT\n",
    "            # find optimal trajectory\n",
    "\n",
    "            dCar.x = xinit; #set initial state of the dubins car\n",
    "\n",
    "            TrajextraArgs = Bundle(dict(\n",
    "                                uMode = uMode, #set if control wants to min or max\n",
    "                                dMode = 'max',\n",
    "                                visualize = True, #show plot\n",
    "                                fig_num = 2, #figure number\n",
    "                                #we want to see the first two dimensions (x and y)\n",
    "                                projDim = expand(np.array((1 1 0)), 0)\n",
    "                            ))\n",
    "\n",
    "\n",
    "            #flip data time points so we start from the beginning of time\n",
    "            dataTraj = np.flip(data,4); # I hope this is correct\n",
    "\n",
    "            # [traj, traj_tau] = ...\n",
    "            # computeOptTraj(g, data, tau, dynSys, extraArgs)\n",
    "            [traj, traj_tau] = ...\n",
    "              computeOptTraj(g, dataTraj, tau2, dCar, TrajextraArgs);\n",
    "\n",
    "            # fig = plt.gcf()\n",
    "            # plt.clf()\n",
    "            # h = visSetIm(g, data[:,:,:,-1]);\n",
    "            # # h.FaceAlpha = .3;\n",
    "            #\n",
    "            # ax = fig.add_subplot(projection='3d')\n",
    "            # ax.scatter(xinit[1], xinit[2], xinit[3]);\n",
    "            # # s.SizeData = 70;\n",
    "            # ax.set_title('The reachable set at the end and x_init')\n",
    "            #\n",
    "            # #plot traj\n",
    "            # # figure(4)\n",
    "            # ax2 = fig.add_subplot(1, 1, 1)\n",
    "            # ax2.plot(traj[0,:], traj[1,:])\n",
    "            # ax2.set_xlim(left=-5, right=5)\n",
    "            # ax2.set_ylim(left=-5, right=5)\n",
    "            # add the target set to that\n",
    "            g2D, data2D = proj(g, data0, [0, 0, 1]);\n",
    "            # visSetIm(g2D, data2D, 'green');\n",
    "            # ax2.set_title('2D projection of the trajectory & target set')\n",
    "            # hold off\n",
    "        else:\n",
    "            logger.fatal(f'Initial state is not in the BRS/BRT! It have a value of {value}')\n",
    "        return g2D, data2D\n"
   ]
  },
  {
   "cell_type": "markdown",
   "id": "4f55e262-7e16-4d84-b90b-f22d97e78cdc",
   "metadata": {},
   "source": [
    "#### Functions needing conversion to understand basic tutroal inm helper OC\n",
    "\n",
    ">> edit shapeCylinder.m\n",
    "\n",
    ">> edit DubinsCar\n",
    "\n",
    ">> edit HJIPDE_solve\n",
    "\n",
    ">> edit eval_u\n",
    "\n",
    ">> edit computeOptTraj\n",
    "\n",
    ">> help flip\n",
    "\n",
    ">> edit visSetIm.m\n",
    "\n",
    ">> edit proj.m"
   ]
  },
  {
   "cell_type": "code",
   "execution_count": 4,
   "id": "f9934092-cd11-4be6-a42a-e062ec33ae4a",
   "metadata": {},
   "outputs": [
    {
     "ename": "NameError",
     "evalue": "name 'tutorial' is not defined",
     "output_type": "error",
     "traceback": [
      "\u001b[0;31m---------------------------------------------------------------------------\u001b[0m",
      "\u001b[0;31mNameError\u001b[0m                                 Traceback (most recent call last)",
      "\u001b[0;32m<ipython-input-4-960687965b99>\u001b[0m in \u001b[0;36m<module>\u001b[0;34m\u001b[0m\n\u001b[0;32m----> 1\u001b[0;31m \u001b[0mg\u001b[0m\u001b[0;34m,\u001b[0m \u001b[0mdata\u001b[0m \u001b[0;34m=\u001b[0m \u001b[0mtutorial\u001b[0m\u001b[0;34m\u001b[0m\u001b[0;34m\u001b[0m\u001b[0m\n\u001b[0m",
      "\u001b[0;31mNameError\u001b[0m: name 'tutorial' is not defined"
     ]
    }
   ],
   "source": [
    "g, data = tutorial"
   ]
  },
  {
   "cell_type": "code",
   "execution_count": 19,
   "id": "718b4a22-f8a7-473d-a373-59118df5c238",
   "metadata": {},
   "outputs": [],
   "source": [
    "HJIextraArgs = Bundle(dict())"
   ]
  },
  {
   "cell_type": "code",
   "execution_count": 21,
   "id": "1b907393-db66-46ce-a968-524f839c8189",
   "metadata": {},
   "outputs": [
    {
     "data": {
      "text/plain": [
       "2"
      ]
     },
     "execution_count": 21,
     "metadata": {},
     "output_type": "execute_result"
    }
   ],
   "source": [
    "HJIextraArgs.visualize = Bundle(dict())\n",
    "HJIextraArgs.visualize.a = 2\n",
    "HJIextraArgs.visualize.a"
   ]
  },
  {
   "cell_type": "code",
   "execution_count": 25,
   "id": "526f2c29-960f-4653-a0ed-29cff29ca29a",
   "metadata": {},
   "outputs": [
    {
     "data": {
      "text/plain": [
       "array([[[0, 1],\n",
       "        [2, 3]],\n",
       "\n",
       "       [[4, 5],\n",
       "        [6, 7]]])"
      ]
     },
     "execution_count": 25,
     "metadata": {},
     "output_type": "execute_result"
    }
   ],
   "source": [
    "A = np.arange(8).reshape((2,2,2))\n",
    "A"
   ]
  },
  {
   "cell_type": "code",
   "execution_count": 149,
   "id": "ef7937a0-3735-4a79-8027-1662191139f3",
   "metadata": {},
   "outputs": [
    {
     "name": "stdout",
     "output_type": "stream",
     "text": [
      "[[ 0.06244107  0.69529362  0.6326224   0.58253316]\n",
      " [-1.21416698  1.45355482 -0.51653236  0.67805246]\n",
      " [-1.78050884  0.49770683 -1.58653607  0.54979628]\n",
      " [-0.84867089 -0.552695   -0.45479385  1.47591256]]\n"
     ]
    }
   ],
   "source": [
    "data = np.random.randn(4,4)\n",
    "print(data)\n",
    "for i in range(4):\n",
    "#     col = [[':'] for i in range(4)]\n",
    "#     col[i] = 1\n",
    "#     print('col[:]: ', col[:])\n",
    "#     print('data[col[:]] ', data[col[:]])\n",
    "    data = np.concatenate((data, np.expand_dims(data[i], 0)), 0)\n",
    "    #print(i, ':',  data)\n",
    "    "
   ]
  },
  {
   "cell_type": "code",
   "execution_count": 150,
   "id": "b4e26d4f-bfee-446c-9038-d95b070f6bd7",
   "metadata": {},
   "outputs": [
    {
     "data": {
      "text/plain": [
       "(8, 4)"
      ]
     },
     "execution_count": 150,
     "metadata": {},
     "output_type": "execute_result"
    }
   ],
   "source": [
    "data.shape"
   ]
  },
  {
   "cell_type": "code",
   "execution_count": null,
   "id": "a307061c-c787-40d5-8c98-62cb67ec0a68",
   "metadata": {},
   "outputs": [],
   "source": []
  }
 ],
 "metadata": {
  "kernelspec": {
   "display_name": "Python 3",
   "language": "python",
   "name": "python3"
  },
  "language_info": {
   "codemirror_mode": {
    "name": "ipython",
    "version": 3
   },
   "file_extension": ".py",
   "mimetype": "text/x-python",
   "name": "python",
   "nbconvert_exporter": "python",
   "pygments_lexer": "ipython3",
   "version": "3.7.10"
  }
 },
 "nbformat": 4,
 "nbformat_minor": 5
}
