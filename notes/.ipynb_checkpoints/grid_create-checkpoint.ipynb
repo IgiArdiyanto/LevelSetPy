{
 "cells": [
  {
   "cell_type": "markdown",
   "id": "f9e77729-0624-4aaa-90e1-6306e4ff37ee",
   "metadata": {},
   "source": [
    "### Implements algorithm 1 in the parti-game [paper](https://link.springer.com/content/pdf/10.1007/BF00993591.pdf)\n",
    "\n",
    "Learn a controller from a start region to a goal region on a continuous space; Four increasingly effective algorithms to partition discrete state spaces. Algorithm 1 and 2 are non-learning; 3 and 4 learn, hence explore, the world while planning a route to the goal. Here, I implement algorithm 1"
   ]
  },
  {
   "cell_type": "code",
   "execution_count": 1,
   "id": "3d1a5f7f-62bd-4637-9bbf-74ff806564f5",
   "metadata": {},
   "outputs": [],
   "source": [
    "import sys\n",
    "import numpy as np\n",
    "from os.path import abspath, join\n",
    "sys.path.append(abspath(join('..')))\n",
    "sys.path.append(abspath(join('..', 'grids')))\n",
    "sys.path.append(abspath(join('..', 'utils')))\n",
    "sys.path.append(abspath(join('..')))\n",
    "\n",
    "from grids import *\n",
    "import matplotlib.pyplot as plt\n",
    "from gen_utils import *\n",
    "from BoundaryCondition import *\n",
    "from Visualization import Visualizer\n",
    "%matplotlib inline"
   ]
  },
  {
   "cell_type": "code",
   "execution_count": 2,
   "id": "99f6ded7-4815-4865-bbd1-12ee717a9fff",
   "metadata": {
    "tags": []
   },
   "outputs": [
    {
     "name": "stderr",
     "output_type": "stream",
     "text": [
      "Inconsistent grid size in dimension 1\n",
      "Inconsistent grid size in dimension 3\n",
      "Did notcheck if entries are function handles\n"
     ]
    },
    {
     "name": "stdout",
     "output_type": "stream",
     "text": [
      "gridOut.vs[0]:  (45, 1) [0.02272727]\n",
      "gridOut.vs[1]:  (46, 1) [0.02272727]\n",
      "gridOut.vs[2]:  (45, 1) [0.02272727]\n",
      "gridOut.vs[3]:  (46, 1) [0.02272727]\n",
      "gridOut.N[0]:, [45.], 45\n",
      "gridOut.N[1]:, [45.], 46\n",
      "gridOut.N[2]:, [45.], 45\n",
      "gridOut.N[3]:, [45.], 46\n"
     ]
    }
   ],
   "source": [
    "gridIn=expand(np.array(([0, 1, 0, 1])), 1)\n",
    "gridOut =expand(np.array(([1, 2, 1, 2])), 1)\n",
    "N = 45*ones(4,1)\n",
    "g = createGrid(gridIn, gridOut, N);\n"
   ]
  },
  {
   "cell_type": "code",
   "execution_count": 10,
   "id": "75f3afda-1099-45f4-9e6d-888872f48d90",
   "metadata": {},
   "outputs": [
    {
     "data": {
      "text/plain": [
       "(45,)"
      ]
     },
     "execution_count": 10,
     "metadata": {},
     "output_type": "execute_result"
    }
   ],
   "source": [
    "np.linspace(0, 1, 45).shape"
   ]
  },
  {
   "cell_type": "code",
   "execution_count": 4,
   "id": "65879054-c39c-4204-9b76-1c5f03cc9787",
   "metadata": {},
   "outputs": [
    {
     "name": "stderr",
     "output_type": "stream",
     "text": [
      "Did notcheck if entries are function handles\n"
     ]
    },
    {
     "name": "stdout",
     "output_type": "stream",
     "text": [
      "gridOut.vs[0]:  (41, 1) [0.25]\n",
      "gridOut.vs[1]:  (41, 1) [0.25]\n",
      "gridOut.vs[2]:  (41, 1) [0.15707963]\n",
      "gridOut.N[0]:, [41], 41\n",
      "gridOut.N[1]:, [41], 41\n",
      "gridOut.N[2]:, [41], 41\n"
     ]
    }
   ],
   "source": [
    "from math import pi\n",
    "\n",
    "grid_min = expand(np.array((-5, -5, -pi)), ax = 1); # Lower corner of computation domain\n",
    "grid_max = expand(np.array((5, 5, pi)), ax = 1);   # Upper corner of computation domain\n",
    "N = expand(np.array((41, 41,  41)), ax = 1);        # Number of grid points per dimension\n",
    "pdDims = 3;               # 3rd dimension is periodic\n",
    "g = createGrid(grid_min, grid_max, N, pdDims);"
   ]
  },
  {
   "cell_type": "code",
   "execution_count": 9,
   "id": "631977ce-1a85-499a-a6bd-1215df4f9405",
   "metadata": {},
   "outputs": [
    {
     "name": "stdout",
     "output_type": "stream",
     "text": [
      "Help on function linspace in module numpy:\n",
      "\n",
      "linspace(start, stop, num=50, endpoint=True, retstep=False, dtype=None, axis=0)\n",
      "    Return evenly spaced numbers over a specified interval.\n",
      "    \n",
      "    Returns `num` evenly spaced samples, calculated over the\n",
      "    interval [`start`, `stop`].\n",
      "    \n",
      "    The endpoint of the interval can optionally be excluded.\n",
      "    \n",
      "    .. versionchanged:: 1.16.0\n",
      "        Non-scalar `start` and `stop` are now supported.\n",
      "    \n",
      "    Parameters\n",
      "    ----------\n",
      "    start : array_like\n",
      "        The starting value of the sequence.\n",
      "    stop : array_like\n",
      "        The end value of the sequence, unless `endpoint` is set to False.\n",
      "        In that case, the sequence consists of all but the last of ``num + 1``\n",
      "        evenly spaced samples, so that `stop` is excluded.  Note that the step\n",
      "        size changes when `endpoint` is False.\n",
      "    num : int, optional\n",
      "        Number of samples to generate. Default is 50. Must be non-negative.\n",
      "    endpoint : bool, optional\n",
      "        If True, `stop` is the last sample. Otherwise, it is not included.\n",
      "        Default is True.\n",
      "    retstep : bool, optional\n",
      "        If True, return (`samples`, `step`), where `step` is the spacing\n",
      "        between samples.\n",
      "    dtype : dtype, optional\n",
      "        The type of the output array.  If `dtype` is not given, infer the data\n",
      "        type from the other input arguments.\n",
      "    \n",
      "        .. versionadded:: 1.9.0\n",
      "    \n",
      "    axis : int, optional\n",
      "        The axis in the result to store the samples.  Relevant only if start\n",
      "        or stop are array-like.  By default (0), the samples will be along a\n",
      "        new axis inserted at the beginning. Use -1 to get an axis at the end.\n",
      "    \n",
      "        .. versionadded:: 1.16.0\n",
      "    \n",
      "    Returns\n",
      "    -------\n",
      "    samples : ndarray\n",
      "        There are `num` equally spaced samples in the closed interval\n",
      "        ``[start, stop]`` or the half-open interval ``[start, stop)``\n",
      "        (depending on whether `endpoint` is True or False).\n",
      "    step : float, optional\n",
      "        Only returned if `retstep` is True\n",
      "    \n",
      "        Size of spacing between samples.\n",
      "    \n",
      "    \n",
      "    See Also\n",
      "    --------\n",
      "    arange : Similar to `linspace`, but uses a step size (instead of the\n",
      "             number of samples).\n",
      "    geomspace : Similar to `linspace`, but with numbers spaced evenly on a log\n",
      "                scale (a geometric progression).\n",
      "    logspace : Similar to `geomspace`, but with the end points specified as\n",
      "               logarithms.\n",
      "    \n",
      "    Examples\n",
      "    --------\n",
      "    >>> np.linspace(2.0, 3.0, num=5)\n",
      "    array([2.  , 2.25, 2.5 , 2.75, 3.  ])\n",
      "    >>> np.linspace(2.0, 3.0, num=5, endpoint=False)\n",
      "    array([2. ,  2.2,  2.4,  2.6,  2.8])\n",
      "    >>> np.linspace(2.0, 3.0, num=5, retstep=True)\n",
      "    (array([2.  ,  2.25,  2.5 ,  2.75,  3.  ]), 0.25)\n",
      "    \n",
      "    Graphical illustration:\n",
      "    \n",
      "    >>> import matplotlib.pyplot as plt\n",
      "    >>> N = 8\n",
      "    >>> y = np.zeros(N)\n",
      "    >>> x1 = np.linspace(0, 10, N, endpoint=True)\n",
      "    >>> x2 = np.linspace(0, 10, N, endpoint=False)\n",
      "    >>> plt.plot(x1, y, 'o')\n",
      "    [<matplotlib.lines.Line2D object at 0x...>]\n",
      "    >>> plt.plot(x2, y + 0.5, 'o')\n",
      "    [<matplotlib.lines.Line2D object at 0x...>]\n",
      "    >>> plt.ylim([-0.5, 1])\n",
      "    (-0.5, 1)\n",
      "    >>> plt.show()\n",
      "\n"
     ]
    }
   ],
   "source": [
    "help(np.linspace)"
   ]
  },
  {
   "cell_type": "code",
   "execution_count": 3,
   "id": "03e984f0-7c67-4d93-b369-fc92353b52ae",
   "metadata": {},
   "outputs": [
    {
     "data": {
      "text/plain": [
       "<Figure size 2160x1296 with 0 Axes>"
      ]
     },
     "metadata": {},
     "output_type": "display_data"
    },
    {
     "data": {
      "image/png": "[encoded data removed]",
      "text/plain": [
       "<Figure size 432x288 with 3 Axes>"
      ]
     },
     "metadata": {
      "needs_background": "light"
     },
     "output_type": "display_data"
    }
   ],
   "source": [
    "viz = Visualizer(winsize=(30, 18), fontdict={'fontsize':12, 'fontweight':'bold'})\n",
    "viz.visGrid(g, 'red')"
   ]
  },
  {
   "cell_type": "code",
   "execution_count": 10,
   "id": "c98aa637-671e-4e8b-afcd-63ea4fe5e870",
   "metadata": {},
   "outputs": [
    {
     "data": {
      "text/plain": [
       "(4, 1)"
      ]
     },
     "execution_count": 10,
     "metadata": {},
     "output_type": "execute_result"
    }
   ],
   "source": [
    "N.shape"
   ]
  },
  {
   "cell_type": "code",
   "execution_count": 5,
   "id": "bc1cc5c4-62d2-4c04-999a-e7994a656bf2",
   "metadata": {},
   "outputs": [],
   "source": [
    "def sepGrid(g, dims):\n",
    "    \"\"\"\n",
    "        gs = sepGrid(g, dims)\n",
    "       Separates a grid into the different dimensions specified in dims\n",
    "\n",
    "     Inputs:\n",
    "       g    - grid\n",
    "       dims - cell structure of grid dimensions\n",
    "                eg. {[1 3], [2 4]} would split the grid into two; one grid in\n",
    "                    the 1st and 3rd dimensions, and another in the 2nd and 4th\n",
    "                    dimensions\n",
    "\n",
    "     Output:\n",
    "       gs - cell vector of separated grids\n",
    "   \"\"\"\n",
    "    gs = cell(size(dims));\n",
    "    for i in range(dims):\n",
    "        dims_i = ones(1, g.dim);\n",
    "        dims_i[dims[i]] = 0\n",
    "        gs[i] = proj(g, None, dims_i);\n",
    "\n",
    "    return gs"
   ]
  },
  {
   "cell_type": "code",
   "execution_count": null,
   "id": "15d02353-5f57-40b8-b01a-a012e75afc21",
   "metadata": {},
   "outputs": [],
   "source": []
  }
 ],
 "metadata": {
  "kernelspec": {
   "display_name": "Python 3",
   "language": "python",
   "name": "python3"
  },
  "language_info": {
   "codemirror_mode": {
    "name": "ipython",
    "version": 3
   },
   "file_extension": ".py",
   "mimetype": "text/x-python",
   "name": "python",
   "nbconvert_exporter": "python",
   "pygments_lexer": "ipython3",
   "version": "3.7.10"
  }
 },
 "nbformat": 4,
 "nbformat_minor": 5
}
