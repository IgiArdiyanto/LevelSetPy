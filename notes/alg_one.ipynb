{
 "cells": [
  {
   "cell_type": "markdown",
   "id": "6d1f018b-8abb-4633-ba5b-d6552c09e9c5",
   "metadata": {},
   "source": [
    "### Implements algorithm 1 in the parti-game [paper](https://link.springer.com/content/pdf/10.1007/BF00993591.pdf)\n",
    "\n",
    "Learn a controller from a start region to a goal region on a continuous space; Four increasingly effective algorithms to partition discrete state spaces. Algorithm 1 and 2 are non-learning; 3 and 4 learn, hence explore, the world while planning a route to the goal. Here, I implement algorithm 1"
   ]
  },
  {
   "cell_type": "code",
   "execution_count": 1,
   "id": "90777b02-daa8-4888-a211-241eb6961a13",
   "metadata": {},
   "outputs": [],
   "source": [
    "import sys\n",
    "import numpy as np\n",
    "from os.path import abspath, join\n",
    "sys.path.append(abspath(join('..')))\n",
    "sys.path.append(abspath(join('..', 'grids')))\n",
    "sys.path.append(abspath(join('..', 'utils')))\n",
    "sys.path.append(abspath(join('..', 'Visualization')))\n",
    "sys.path.append(abspath(join('..')))\n",
    "\n",
    "from grids import *\n",
    "import matplotlib.pyplot as plt\n",
    "from gen_utils import *\n",
    "from BoundaryCondition import *\n",
    "from Visualization import Visualizer\n",
    "from valFuncs import proj\n",
    "%matplotlib inline"
   ]
  },
  {
   "cell_type": "code",
   "execution_count": 94,
   "id": "536a0143-3286-4eb7-8597-13ee282b169f",
   "metadata": {},
   "outputs": [
    {
     "name": "stderr",
     "output_type": "stream",
     "text": [
      "Grid dimension > 5, may be dangerously large\n"
     ]
    }
   ],
   "source": [
    "#Given N cells, construct an MDT with N discrete states 1, ..., N.\n",
    "\n",
    "N = 6\n",
    "\n",
    "# make a 6 cell grid\n",
    "gridIn=expand(np.array((0, 1, 0, 1, 0, 1)), 1)\n",
    "gridOut =expand(np.array((1, 2, 1, 2, 1, 2)), 1)\n",
    "num_points = 30\n",
    "N = num_points*ones(6,1).astype(np.int64)\n",
    "\n",
    "g = createGrid(gridIn, gridOut, N, process=True, low_mem=False);\n",
    "\n",
    "# print(f'len(g.xs), g.xs[0].shape {len(g.xs), g.xs[0].shape} g.N {g.N.shape}')\n",
    "dims = [[0, 4], [1, 5], [2, 3]]\n",
    "\n",
    "bounds = [np.linspace(0, 1, 3), np.linspace(1, 2, 4), np.linspace(2, 3, 3), np.linspace(3, 4, 4)]\n",
    "        \n",
    "if g.dim > 1:\n",
    "    bounds_grid = np.meshgrid(*bounds, sparse=False);\n",
    "else:\n",
    "    bounds_grid = np.meshgrid(bounds)[0]"
   ]
  },
  {
   "cell_type": "code",
   "execution_count": 111,
   "id": "a5867b8c-6b4c-46c0-ac3b-de117e2b8d74",
   "metadata": {},
   "outputs": [],
   "source": [
    "N = 4\n",
    "\n",
    "# make a 6 cell grid\n",
    "gridIn=expand(np.array((0, 0)), 1)\n",
    "gridOut =expand(np.array((1, 1)), 1)\n",
    "num_points = 30\n",
    "N = num_points*ones(2,1).astype(np.int64)\n",
    "\n",
    "g = createGrid(gridIn, gridOut, N, process=True, low_mem=False);\n",
    "\n",
    "bounds = [[0, 0.5, 1], [0, 0.25, 0.75, 1]]\n",
    "padding = np.array(([[0.1, 0.2]])).T\n",
    "\n",
    "if g.dim > 1:\n",
    "    bounds_grid = np.meshgrid(*bounds, sparse=False, indexing='ij');\n",
    "else:\n",
    "    bounds_grid = np.meshgrid(bounds)[0]\n",
    "\n",
    "bds_grd = bounds_grid[0]\n",
    "bds_grd_shp = np.array(bds_grd.shape)\n",
    "\n",
    "gs = bds_grd_shp-(bds_grd_shp>1)\n",
    "gs = np.empty(gs)"
   ]
  },
  {
   "cell_type": "code",
   "execution_count": 118,
   "id": "62ff28ec-3b19-4f33-b9bf-1a5df7606633",
   "metadata": {},
   "outputs": [
    {
     "ename": "ValueError",
     "evalue": "index 2 is out of bounds for array with size 0",
     "output_type": "error",
     "traceback": [
      "\u001b[0;31m---------------------------------------------------------------------------\u001b[0m",
      "\u001b[0;31mValueError\u001b[0m                                Traceback (most recent call last)",
      "\u001b[0;32m<ipython-input-118-78860d0af3c5>\u001b[0m in \u001b[0;36m<module>\u001b[0;34m\u001b[0m\n\u001b[1;32m      1\u001b[0m \u001b[0;32mfor\u001b[0m \u001b[0mi\u001b[0m \u001b[0;32min\u001b[0m \u001b[0mrange\u001b[0m\u001b[0;34m(\u001b[0m\u001b[0mnumel\u001b[0m\u001b[0;34m(\u001b[0m\u001b[0mgs\u001b[0m\u001b[0;34m)\u001b[0m\u001b[0;34m)\u001b[0m\u001b[0;34m:\u001b[0m\u001b[0;34m\u001b[0m\u001b[0;34m\u001b[0m\u001b[0m\n\u001b[0;32m----> 2\u001b[0;31m     \u001b[0mii\u001b[0m \u001b[0;34m=\u001b[0m \u001b[0mnp\u001b[0m\u001b[0;34m.\u001b[0m\u001b[0munravel_index\u001b[0m\u001b[0;34m(\u001b[0m\u001b[0msize\u001b[0m\u001b[0;34m(\u001b[0m\u001b[0mgs\u001b[0m\u001b[0;34m)\u001b[0m\u001b[0;34m,\u001b[0m \u001b[0mi\u001b[0m\u001b[0;34m,\u001b[0m \u001b[0morder\u001b[0m\u001b[0;34m=\u001b[0m\u001b[0;34m'F'\u001b[0m\u001b[0;34m)\u001b[0m\u001b[0;34m\u001b[0m\u001b[0;34m\u001b[0m\u001b[0m\n\u001b[0m\u001b[1;32m      3\u001b[0m     \u001b[0mpritn\u001b[0m\u001b[0;34m(\u001b[0m\u001b[0;34mf'ii: {ii}'\u001b[0m\u001b[0;34m)\u001b[0m\u001b[0;34m\u001b[0m\u001b[0;34m\u001b[0m\u001b[0m\n\u001b[1;32m      4\u001b[0m \u001b[0mend\u001b[0m\u001b[0;34m\u001b[0m\u001b[0;34m\u001b[0m\u001b[0m\n",
      "\u001b[0;32m<__array_function__ internals>\u001b[0m in \u001b[0;36munravel_index\u001b[0;34m(*args, **kwargs)\u001b[0m\n",
      "\u001b[0;31mValueError\u001b[0m: index 2 is out of bounds for array with size 0"
     ]
    }
   ],
   "source": [
    "\n",
    "for i in range(numel(gs)):\n",
    "    ii = np.unravel_index(size(gs), i, order='F')\n",
    "    pritn(f'ii: {ii}')\n",
    "end"
   ]
  },
  {
   "cell_type": "code",
   "execution_count": 120,
   "id": "e7893e67-e4f4-4089-9072-ed5c81bcb761",
   "metadata": {},
   "outputs": [
    {
     "name": "stdout",
     "output_type": "stream",
     "text": [
      "Help on function unravel_index in module numpy:\n",
      "\n",
      "unravel_index(...)\n",
      "    unravel_index(indices, shape, order='C')\n",
      "    \n",
      "    Converts a flat index or array of flat indices into a tuple\n",
      "    of coordinate arrays.\n",
      "    \n",
      "    Parameters\n",
      "    ----------\n",
      "    indices : array_like\n",
      "        An integer array whose elements are indices into the flattened\n",
      "        version of an array of dimensions ``shape``. Before version 1.6.0,\n",
      "        this function accepted just one index value.\n",
      "    shape : tuple of ints\n",
      "        The shape of the array to use for unraveling ``indices``.\n",
      "    \n",
      "        .. versionchanged:: 1.16.0\n",
      "            Renamed from ``dims`` to ``shape``.\n",
      "    \n",
      "    order : {'C', 'F'}, optional\n",
      "        Determines whether the indices should be viewed as indexing in\n",
      "        row-major (C-style) or column-major (Fortran-style) order.\n",
      "    \n",
      "        .. versionadded:: 1.6.0\n",
      "    \n",
      "    Returns\n",
      "    -------\n",
      "    unraveled_coords : tuple of ndarray\n",
      "        Each array in the tuple has the same shape as the ``indices``\n",
      "        array.\n",
      "    \n",
      "    See Also\n",
      "    --------\n",
      "    ravel_multi_index\n",
      "    \n",
      "    Examples\n",
      "    --------\n",
      "    >>> np.unravel_index([22, 41, 37], (7,6))\n",
      "    (array([3, 6, 6]), array([4, 5, 1]))\n",
      "    >>> np.unravel_index([31, 41, 13], (7,6), order='F')\n",
      "    (array([3, 6, 6]), array([4, 5, 1]))\n",
      "    \n",
      "    >>> np.unravel_index(1621, (6,7,8,9))\n",
      "    (3, 1, 4, 1)\n",
      "\n"
     ]
    }
   ],
   "source": [
    "help(np.unravel_index)"
   ]
  },
  {
   "cell_type": "code",
   "execution_count": null,
   "id": "ddcab8df-8505-4a88-bf9d-6e4dca3538cc",
   "metadata": {},
   "outputs": [],
   "source": []
  },
  {
   "cell_type": "code",
   "execution_count": null,
   "id": "01d7bdf1-24a1-413e-9063-fc6261aedcdf",
   "metadata": {},
   "outputs": [],
   "source": []
  },
  {
   "cell_type": "code",
   "execution_count": null,
   "id": "7443812e-2f67-40e6-879d-5667d1cf6393",
   "metadata": {},
   "outputs": [],
   "source": []
  }
 ],
 "metadata": {
  "kernelspec": {
   "display_name": "Python 3",
   "language": "python",
   "name": "python3"
  },
  "language_info": {
   "codemirror_mode": {
    "name": "ipython",
    "version": 3
   },
   "file_extension": ".py",
   "mimetype": "text/x-python",
   "name": "python",
   "nbconvert_exporter": "python",
   "pygments_lexer": "ipython3",
   "version": "3.7.10"
  }
 },
 "nbformat": 4,
 "nbformat_minor": 5
}
