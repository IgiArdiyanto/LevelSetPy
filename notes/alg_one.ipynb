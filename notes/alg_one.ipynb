{
 "cells": [
  {
   "cell_type": "markdown",
   "id": "6d1f018b-8abb-4633-ba5b-d6552c09e9c5",
   "metadata": {},
   "source": [
    "### Implements algorithm 1 in the parti-game [paper](https://link.springer.com/content/pdf/10.1007/BF00993591.pdf)\n",
    "\n",
    "Learn a controller from a start region to a goal region on a continuous space; Four increasingly effective algorithms to partition discrete state spaces. Algorithm 1 and 2 are non-learning; 3 and 4 learn, hence explore, the world while planning a route to the goal. Here, I implement algorithm 1"
   ]
  },
  {
   "cell_type": "code",
   "execution_count": 106,
   "id": "90777b02-daa8-4888-a211-241eb6961a13",
   "metadata": {},
   "outputs": [],
   "source": [
    "import sys\n",
    "import numpy as np\n",
    "from os.path import abspath, join\n",
    "sys.path.append(abspath(join('..')))\n",
    "sys.path.append(abspath(join('..', 'DynamicalSystems')))\n",
    "sys.path.append(abspath(join('..', 'grids')))\n",
    "sys.path.append(abspath(join('..', 'utils')))\n",
    "sys.path.append(abspath(join('..', 'Visualization')))\n",
    "sys.path.append(abspath(join('..')))\n",
    "\n",
    "from Grids import *\n",
    "import matplotlib.pyplot as plt\n",
    "from gen_utils import *\n",
    "from BoundaryCondition import *\n",
    "from DynamicalSystems import *\n",
    "from Visualization import Visualizer\n",
    "from ValueFuncs import proj\n",
    "%matplotlib inline"
   ]
  },
  {
   "cell_type": "code",
   "execution_count": 107,
   "id": "536a0143-3286-4eb7-8597-13ee282b169f",
   "metadata": {},
   "outputs": [
    {
     "name": "stderr",
     "output_type": "stream",
     "text": [
      "Grid dimension > 5, may be dangerously large\n"
     ]
    }
   ],
   "source": [
    "#Given N cells, construct an MDT with N discrete states 1, ..., N.\n",
    "\n",
    "N = 6\n",
    "\n",
    "# make a 6 cell grid\n",
    "gridIn=expand(np.array((0, 1, 0, 1, 0, 1)), 1)\n",
    "gridOut =expand(np.array((1, 2, 1, 2, 1, 2)), 1)\n",
    "num_points = 30\n",
    "N = num_points*ones(6,1).astype(np.int64)\n",
    "\n",
    "g = createGrid(gridIn, gridOut, N, process=True, low_mem=False);\n",
    "\n",
    "# print(f'len(g.xs), g.xs[0].shape {len(g.xs), g.xs[0].shape} g.N {g.N.shape}')\n",
    "dims = [[0, 4], [1, 5], [2, 3]]\n",
    "\n",
    "bounds = [np.linspace(0, 1, 3), np.linspace(1, 2, 4), np.linspace(2, 3, 3), np.linspace(3, 4, 4)]\n",
    "        \n",
    "if g.dim > 1:\n",
    "    bounds_grid = np.meshgrid(*bounds, sparse=False);\n",
    "else:\n",
    "    bounds_grid = np.meshgrid(bounds)[0]"
   ]
  },
  {
   "cell_type": "code",
   "execution_count": 3,
   "id": "a5867b8c-6b4c-46c0-ac3b-de117e2b8d74",
   "metadata": {},
   "outputs": [],
   "source": [
    "N = 4\n",
    "\n",
    "# make a 6 cell grid\n",
    "gridIn=expand(np.array((0, 0)), 1)\n",
    "gridOut =expand(np.array((1, 1)), 1)\n",
    "num_points = 30\n",
    "N = num_points*ones(2,1).astype(np.int64)\n",
    "\n",
    "g = createGrid(gridIn, gridOut, N, process=True, low_mem=False);\n",
    "\n",
    "bounds = [[0, 0.5, 1], [0, 0.25, 0.75, 1]]\n",
    "padding = np.array(([[0.1, 0.2]])).T\n",
    "\n",
    "if g.dim > 1:\n",
    "    bounds_grid = np.meshgrid(*bounds, sparse=False, indexing='ij');\n",
    "else:\n",
    "    bounds_grid = np.meshgrid(bounds)[0]\n",
    "\n",
    "bds_grd = bounds_grid[0]\n",
    "bds_grd_shp = np.array(bds_grd.shape)\n",
    "\n",
    "gs = bds_grd_shp-(bds_grd_shp>1)\n",
    "gs = np.empty(gs)"
   ]
  },
  {
   "cell_type": "code",
   "execution_count": 21,
   "id": "666b42a9-3917-47c3-b099-de9fdaeb8dec",
   "metadata": {},
   "outputs": [
    {
     "data": {
      "text/plain": [
       "<__main__.Bundle at 0x7f9bcf8c0a90>"
      ]
     },
     "execution_count": 21,
     "metadata": {},
     "output_type": "execute_result"
    }
   ],
   "source": [
    "a = Bundle({})\n",
    "a.x = 1\n",
    "a"
   ]
  },
  {
   "cell_type": "code",
   "execution_count": 22,
   "id": "4176aa68-107b-432b-b71c-84ac79d604a9",
   "metadata": {},
   "outputs": [
    {
     "data": {
      "text/plain": [
       "1"
      ]
     },
     "execution_count": 22,
     "metadata": {},
     "output_type": "execute_result"
    }
   ],
   "source": [
    "a.x"
   ]
  },
  {
   "cell_type": "code",
   "execution_count": 15,
   "id": "4b147ba8-c886-4cc5-b529-027e054e231d",
   "metadata": {},
   "outputs": [],
   "source": [
    "k = Bundle(dict(a = 0))"
   ]
  },
  {
   "cell_type": "code",
   "execution_count": 16,
   "id": "7e18b42d-1701-4055-b1f8-cb50242b3dc8",
   "metadata": {},
   "outputs": [
    {
     "data": {
      "text/plain": [
       "(__main__.Bundle,\n",
       " <bound method Bundle.dtype of <__main__.Bundle object at 0x7f9bcf92ca90>>)"
      ]
     },
     "execution_count": 16,
     "metadata": {},
     "output_type": "execute_result"
    }
   ],
   "source": [
    "type(k), k.dtype"
   ]
  },
  {
   "cell_type": "code",
   "execution_count": 18,
   "id": "e058309f-5cf0-4d49-b567-048b1865282c",
   "metadata": {},
   "outputs": [
    {
     "data": {
      "text/plain": [
       "True"
      ]
     },
     "execution_count": 18,
     "metadata": {},
     "output_type": "execute_result"
    }
   ],
   "source": [
    "A = np.arange(12).reshape(4, 3)\n",
    "np.all(A)"
   ]
  },
  {
   "cell_type": "code",
   "execution_count": 36,
   "id": "dee9293c-677d-453f-893a-7b49d22db16e",
   "metadata": {},
   "outputs": [
    {
     "name": "stdout",
     "output_type": "stream",
     "text": [
      "[[nan]\n",
      " [nan]]\n"
     ]
    }
   ],
   "source": [
    "x = np.zeros((2,1))\n",
    "x.fill(np.nan)\n",
    "print(x)"
   ]
  },
  {
   "cell_type": "code",
   "execution_count": 40,
   "id": "c0835f13-0501-43c7-9dfd-81d8701fa416",
   "metadata": {},
   "outputs": [],
   "source": [
    "import casadi"
   ]
  },
  {
   "cell_type": "code",
   "execution_count": 55,
   "id": "fe47a836-74e9-42cd-a1c7-a742a365fa40",
   "metadata": {},
   "outputs": [
    {
     "data": {
      "text/plain": [
       "5"
      ]
     },
     "execution_count": 55,
     "metadata": {},
     "output_type": "execute_result"
    }
   ],
   "source": [
    "dubins_default_params = dict(\n",
    "                            wRange=[-1, 1],\n",
    "                            speed=5,\n",
    "                            dRange=zeros(3,2),\n",
    "                            dims=np.arange(3),\n",
    "                            end=None,\n",
    "                            nu = 1,\n",
    "                            nd = 3,\n",
    "                            x = None,\n",
    "                            nx=3,\n",
    "                            u = None,\n",
    "                            xhist=None,\n",
    "                            uhist=None,\n",
    "                            pdim=None,\n",
    "                            vdim=None,\n",
    "                            hdim=None,\n",
    "                            hpxpy=None,\n",
    "                            hpxpyhist=None,\n",
    "                            hvxvy=None,\n",
    "                            hvxvyhist=None,\n",
    "                            hpv = cell(2,1),\n",
    "                            hpvhist = cell(2,1),\n",
    "                            data = None\n",
    "                            )\n",
    "dubins_default_params['speed']"
   ]
  },
  {
   "cell_type": "code",
   "execution_count": 56,
   "id": "d25db664-51fc-4069-9578-784dbe5bdefc",
   "metadata": {},
   "outputs": [
    {
     "data": {
      "text/plain": [
       "1"
      ]
     },
     "execution_count": 56,
     "metadata": {},
     "output_type": "execute_result"
    }
   ],
   "source": [
    "new_params = {'speed': 1}\n",
    "dubins_default_params.update(new_params)\n",
    "dubins_default_params['speed']"
   ]
  },
  {
   "cell_type": "code",
   "execution_count": 42,
   "id": "0549b77c-c943-4ae4-8adb-1992eb5606dc",
   "metadata": {},
   "outputs": [],
   "source": [
    "from casadi import vertcat"
   ]
  },
  {
   "cell_type": "code",
   "execution_count": 101,
   "id": "f274304a-64e2-412a-abd8-303cad789942",
   "metadata": {},
   "outputs": [
    {
     "name": "stdout",
     "output_type": "stream",
     "text": [
      "(42, 41, 41)\n",
      "(42, 42, 41)\n",
      "(42, 42, 42)\n"
     ]
    }
   ],
   "source": [
    "data = np.random.rand(41, 41, 41)\n",
    "\n",
    "for i in range(3):\n",
    "    to_app = np.expand_dims(data[..., i], i)\n",
    "    data = np.concatenate((data, to_app), i)\n",
    "    print(data.shape)"
   ]
  },
  {
   "cell_type": "code",
   "execution_count": 103,
   "id": "ab1f7028-2baa-4ab7-ab82-6ec740053408",
   "metadata": {},
   "outputs": [
    {
     "name": "stdout",
     "output_type": "stream",
     "text": [
      "[[[ 0  1]\n",
      "  [ 2  3]]\n",
      "\n",
      " [[ 4  5]\n",
      "  [ 6  7]]\n",
      "\n",
      " [[ 8  9]\n",
      "  [10 11]]]\n"
     ]
    }
   ],
   "source": [
    "data = np.arange(12).reshape(3,2,2)\n",
    "print(data)"
   ]
  },
  {
   "cell_type": "code",
   "execution_count": 104,
   "id": "c7e8cf21-edc6-4e2b-90a2-7a2e973bc01d",
   "metadata": {},
   "outputs": [
    {
     "data": {
      "text/plain": [
       "array([[4, 5],\n",
       "       [6, 7]])"
      ]
     },
     "execution_count": 104,
     "metadata": {},
     "output_type": "execute_result"
    }
   ],
   "source": [
    "data[1, ...]"
   ]
  },
  {
   "cell_type": "code",
   "execution_count": 90,
   "id": "dcc293aa-27d9-4eec-873f-0af652a755d0",
   "metadata": {},
   "outputs": [
    {
     "data": {
      "text/plain": [
       "3"
      ]
     },
     "execution_count": 90,
     "metadata": {},
     "output_type": "execute_result"
    }
   ],
   "source": [
    "max(_[0])"
   ]
  },
  {
   "cell_type": "code",
   "execution_count": 105,
   "id": "3e337738-bcd9-432b-b691-933eb9f88288",
   "metadata": {},
   "outputs": [
    {
     "data": {
      "text/plain": [
       "array([[1.],\n",
       "       [1.],\n",
       "       [1.]])"
      ]
     },
     "execution_count": 105,
     "metadata": {},
     "output_type": "execute_result"
    }
   ],
   "source": [
    "x= np.zeros((3, 1))\n",
    "x.fill(True)\n",
    "x"
   ]
  },
  {
   "cell_type": "code",
   "execution_count": null,
   "id": "95e1761b-fb21-4f58-921e-d92c675c2747",
   "metadata": {},
   "outputs": [],
   "source": []
  }
 ],
 "metadata": {
  "kernelspec": {
   "display_name": "Python 3",
   "language": "python",
   "name": "python3"
  },
  "language_info": {
   "codemirror_mode": {
    "name": "ipython",
    "version": 3
   },
   "file_extension": ".py",
   "mimetype": "text/x-python",
   "name": "python",
   "nbconvert_exporter": "python",
   "pygments_lexer": "ipython3",
   "version": "3.7.10"
  }
 },
 "nbformat": 4,
 "nbformat_minor": 5
}
