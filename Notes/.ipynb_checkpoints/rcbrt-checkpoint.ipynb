{
 "cells": [
  {
   "cell_type": "code",
   "execution_count": 3,
   "id": "de1112fb-906e-4fb1-95c4-19d33f39c015",
   "metadata": {},
   "outputs": [],
   "source": [
    "import copy\n",
    "import logging\n",
    "import argparse\n",
    "import sys, os\n",
    "import numpy as np.n",
    "from math import pi\n",
    "import matplotlib.pyplot as plt\n",
    "from os.path import dirname, abspath, join\n",
    "sys.path.append(\"../\")\n",
    "\n",
    "import matplotlib\n",
    "\n",
    "%matplotlib inline\n",
    "\n",
    "import matplotlib as mpl\n",
    "mpl.use('Qt5Agg')\n",
    "import matplotlib.pyplot as plt\n",
    "import matplotlib.gridspec as gridspec\n",
    "from mpl_toolkits.mplot3d.art3d import Poly3DCollection\n",
    "from skimage import measure\n",
    "\n",
    "from Grids import createGrid\n",
    "from ValueFuncs import *\n",
    "from Visualization import *\n",
    "from DynamicalSystems import *\n",
    "from InitialConditions import shapeCylinder\n",
    "from Utilities import *\n",
    "from ExplicitIntegration import *\n",
    "from SpatialDerivative import *\n",
    "from Visualization.value_viz import ValueVisualizer"
   ]
  },
  {
   "cell_type": "code",
   "execution_count": 4,
   "id": "e401e0c6-0df3-4376-89e3-cc70cf2a1843",
   "metadata": {},
   "outputs": [],
   "source": [
    "obj = Bundle({})\n",
    "\n",
    "# define the target set\n",
    "def get_target(g):\n",
    "\tcylinder = shapeCylinder(g.grid, g.axis_align, g.center, g.radius);\n",
    "\treturn cylinder\n",
    "\n",
    "def get_hamiltonian_func(t, data, deriv, finite_diff_data):\n",
    "\tglobal obj\n",
    "\tham_value = deriv[0] * obj.p1_term + \\\n",
    "\t\t\t\tderiv[1] * obj.p2_term - \\\n",
    "\t\t\t\tobj.omega_e_bound*np.abs(deriv[0]*obj.grid.xs[1] - \\\n",
    "\t\t\t\tderiv[1] * obj.grid.xs[0] - deriv[2])  + \\\n",
    "\t\t\t\tobj.omega_p_bound * np.abs(deriv[2])\n",
    "\n",
    "\treturn ham_value, finite_diff_data\n",
    "\n",
    "def get_partial_func(t, data, derivMin, derivMax, \\\n",
    "\t\t\t  schemeData, dim):\n",
    "\t\"\"\"\n",
    "\t\tCalculate the extrema of the absolute value of the partials of the\n",
    "\t\tanalytic Hamiltonian with respect to the costate (gradient).\n",
    "\t\"\"\"\n",
    "\tglobal obj\n",
    "\n",
    "\t# print('dim: ', dim)\n",
    "\tassert dim>=0 and dim <3, \"grid dimension has to be between 0 and 2 inclusive.\"\n",
    "\n",
    "\treturn obj.alpha[dim]"
   ]
  },
  {
   "cell_type": "code",
   "execution_count": 5,
   "id": "9626531e-7a32-4a7b-b748-f2e2d50dfebe",
   "metadata": {},
   "outputs": [],
   "source": [
    "## Grid\n",
    "grid_min = expand(np.array((-.75, -1.25, -pi)), ax = 1) # Lower corner of computation domain\n",
    "grid_max = expand(np.array((3.25, 1.25, pi* (1-2/N[2]))), ax = 1)   # Upper corner of computation domain\n",
    "pdDims = 2                      # 3rd dimension is periodic\n",
    "resolution = 100\n",
    "N = np.array(([[\n",
    "                resolution,\n",
    "                np.ceil(resolution*(grid_max[1, 0] - grid_min[1, 0])/ \\\n",
    "                            (grid_max[0, 0] - grid_min[0, 0])),\n",
    "                resolution-1\n",
    "                ]])).T.astype(int)\n",
    "grid_max[2, 0]*= (1-2/N[2])\n",
    "\n",
    "# global obj\n",
    "# print(obj.__dict__)\n",
    "\n",
    "obj.grid = createGrid(grid_min, grid_max, N, pdDims)\n",
    "\n",
    "# global params\n",
    "obj.axis_align, obj.center, obj.radius = 2, np.zeros((3, 1)), 0.5\n",
    "data0 = get_target(obj)\n",
    "\n",
    "data = copy.copy(data0)\n",
    "\n",
    "obj.v_e\t\t\t  = +1\n",
    "obj.v_p\t\t\t  = +1\n",
    "\n",
    "obj.omega_e_bound = +1\n",
    "obj.omega_p_bound = +1\n",
    "\n",
    "t_range = [0, 2.5]\n",
    "\n",
    "obj.p1_term = obj.v_e - obj.v_p * np.cos(obj.grid.xs[2])\n",
    "obj.p2_term = -obj.v_p * np.sin(obj.grid.xs[2])\n",
    "obj.alpha = [ np.abs(obj.p1_term) + np.abs(obj.omega_e_bound * obj.grid.xs[1]), \\\n",
    "                np.abs(obj.p2_term) + np.abs(obj.omega_e_bound * obj.grid.xs[0]), \\\n",
    "                obj.omega_e_bound + obj.omega_p_bound ]\n",
    "\n",
    "small = 100*eps\n",
    "level = 0\n",
    "\n",
    "finite_diff_data = Bundle({'grid': obj.grid, 'hamFunc': get_hamiltonian_func,\n",
    "                            'partialFunc': get_partial_func,\n",
    "                            'dissFunc': artificialDissipationGLF,\n",
    "                            'derivFunc': upwindFirstENO2,\n",
    "                            })\n",
    "\n",
    "options = Bundle(dict(factorCFL=0.95, stats='on', singleStep='off'))\n",
    "integratorOptions = odeCFLset(options)\n",
    "\n",
    "\"\"\"\n",
    "---------------------------------------------------------------------------\n",
    " Restrict the Hamiltonian so that reachable set only grows.\n",
    "   The Lax-Friedrichs approximation scheme MUST already be completely set up.\n",
    "\"\"\"\n",
    "innerData = copy.copy(finite_diff_data)\n",
    "del finite_diff_data\n",
    "\n",
    "# Wrap the true Hamiltonian inside the term approximation restriction routine.\n",
    "schemeFunc = termRestrictUpdate\n",
    "finite_diff_data = Bundle(dict(innerFunc = termLaxFriedrichs,\n",
    "                               innerData = innerData,\n",
    "                               positive = 0\n",
    "                            ))\n",
    "\n",
    "# Period at which intermediate plots should be produced.\n",
    "plot_steps = 11\n",
    "t_plot = (t_range[1] - t_range[0]) / (plot_steps - 1)\n",
    "# Loop through t_range (subject to a little roundoff).\n",
    "t_now = t_range[0]\n",
    "start_time = np.time()\n",
    "\n",
    "# plt.close('all')\n",
    "# Visualization paramters\n",
    "spacing = tuple(obj.grid.dx.flatten().tolist())\n",
    "init_mesh = implicit_mesh(data, level=0, spacing=spacing,  edge_color='orange',\n",
    "                         face_color='orange')\n",
    "params = Bundle(\n",
    "        {\"grid\": obj.grid,\n",
    "         'disp': True,\n",
    "         'labelsize': 16,\n",
    "         'labels': \"Initial 0-LevelSet\",\n",
    "         'linewidth': 2,\n",
    "         'data': data,\n",
    "         'mesh': init_mesh,\n",
    "         'init_conditions': False,\n",
    "         'pause_time': args.pause_time,\n",
    "         'level': 0, # which level set to visualize\n",
    "         'winsize': (12,7),\n",
    "         'fontdict': Bundle({'fontsize':12, 'fontweight':'bold'}),\n",
    "         \"savedict\": Bundle({\"save\": False,\n",
    "                        \"savename\": \"rcbrt\",\n",
    "                        \"savepath\": \"../jpeg_dumps/rcbrt\"})\n",
    "         })\n",
    "\n",
    "rcbrt_viz = RCBRTVisualizer(params=params)\n",
    "delete_last_plot = False\n",
    "\n",
    "while(t_range[1] - t_now > small * t_range[1]):\n",
    "\n",
    "    time_step = f\"{t_now}/{t_range[-1]}\"\n",
    "    if(strcmp(options.stats, 'on')):\n",
    "        info(f\"Iteration: {time_step}\")\n",
    "\n",
    "    # Reshape data array into column vector for ode solver call.\n",
    "    y0 = data.flatten()\n",
    "\n",
    "    # How far to step?\n",
    "    t_span = np.hstack([ t_now, min(t_range[1], t_now + t_plot) ])\n",
    "\n",
    "    # Take a timestep.\n",
    "    t, y, _ = odeCFL2(termRestrictUpdate, t_span, y0, integratorOptions, finite_diff_data)\n",
    "    t_now = t\n",
    "\n",
    "    # Get back the correctly shaped data array\n",
    "    data = np.reshape(y, obj.grid.shape)\n",
    "\n",
    "    # TODO: Why doesn't mesh have zero values?\n",
    "    # mesh=implicit_mesh(data, level=None, spacing=spacing,  edge_color='red',\n",
    "    #                      face_color='red')\n",
    "    verts, faces, normals, values = measure.marching_cubes(data, level=None, spacing=spacing, gradient_direction='descent')\n",
    "    # Fancy indexing: `verts[faces]` to generate a collection of triangles\n",
    "    mesh = Poly3DCollection(verts[faces])\n",
    "    mesh.set_edgecolor('magenta')\n",
    "    mesh.set_facecolor('magenta')\n",
    "\n",
    "    rcbrt_viz.update_tube(data, mesh, time_step, delete_last_plot)\n",
    "\n",
    "    delete_last_plot = True"
   ]
  },
  {
   "cell_type": "code",
   "execution_count": 38,
   "id": "e3d562c7-962d-40d9-b690-5a0b4a1949ff",
   "metadata": {},
   "outputs": [
    {
     "data": {
      "image/png": "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.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.uohA1S97B9h0MNeovxTR5wq6j8kvyprcv/71r6Orqwt33323EuFl6oFngkwINBwOIxwOux4/zzd2ovWdTcdCdea8cC6QThZOOqfSnOWdnSoVIhV5uDLv1/mdRzxsmXSSSC3Fb1XeVq28nOnbz4rOpEu/B4v7nGTev8h4kUGFBHmRFrYszzuX6cW+L7xIgvMa9a7x6swl0e/EvmOnoKzJvaKiIrn1qwzZkLSbs8/dwLIsbGxsYGlpCSsrK8kjX92Mn2eCcvfcM33WvE6N1+GqemSy8rKoAF8/uT8r9hx5wej0b6rePG1ksPWke/iZbj8r01P0TN2Es1myVA3Zs/qxaawM3psrezd53rnb0L+bCIkM5dzHlALKntxVibfQhKYyfu7z+dDQ0JAcP6+oqMBTTz2l158XCTyS4nXiquTHpok8I1GoNL3jFXvVchnbFJ/45madO79eUQ4Z0VpIJz02DyXLzi/yTkVes8xj5hl0ImOC9z6xctwaH7wyojyidOqdy4X3rsfc8wtN7g4UamIcC9Xxc23plgZEHTb12S0xiEif8uZBpKl0mbLIANXJs/pQ+dzoIAoDUx66KJ0q60yX3Y8oL5WPgsyzlZGuTCdehIAqQxlEsneNbVs3Xn0m0OSeP5Q1uXs8np.Z8SJk85JlQrqxWAxLS0uYnp.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.e7nX4/E4otGo62Wyot/2yZMnd80qqJIjdwB49NFH0dHRkbWcQuwtv9O8WpvQFxYWsLa2htbWVvT29uLw4cPJewkEAiUVVSg1uA2FisL2VBkq/MsLo8u8ScowkHmeqh4zr6N3E7alPG5Wpoj0RIaTEzJDhiefB150ReRtU+V4aTyIZMkMQNbwET0zmaevrK9gFUpFRQVaW1sVJWWP3baXfUmSe65QqINjSt1zB4DV1VUsLCzA5/OhpaUF3d3dOHTo0K562XMBHlHbabIwL88L53mWvE6WV5bVk5eH6rCd+WQErWossPlFesi8a9GvRRSupmSKDCOZIUPpJyNo1aiELJ13f6wh5izvJGS2vChkT6Xv9N5iN/V3JUfuhmHgp37qp2AYBt7//vfjfe97X8ayinHka6nAsiysra0ll63Nz8+TR89SKNV7KgWodPpUZ+rGe1MJoWb7dEQdPXWdR4xsOd53kR5sHh6RiIwits1lz0kEt4aFs0wmhg3vfbDLUF41r37nZ17khZVJXZO9Y26iDRrFQcmR+w9/+EP09fVhYWEBr33ta3H48GG88pWvzEhWJtvPFgr5qM+yLKyvr2NhYQErKytoampCV1cXfD6f9tJzBFGIXRRadoIXemZDnrJOmFeHyKtmrzvzUDJFRCnzVGX5REQsCq3LDCWZ98rmpeqgrqnoRemooi/vGi/8T+lAtSePtGXvqCxd9ySlj5Ij976+PgBAV1cX7rrrLjzxxBMZk3u2B8fks1yuYG+fOz8/j9XVVTQ0NKC7uxsHDhxIeuijo6Oux5vyYXiUinGRywl1NkThTmdZVpYzL9XxsvJlnb0ofCq7Y1kon83rJpwsqo/Si2cUiXQUtQ0VSXATdha1swr5Osuwed28iSJiZsmbZxCKCJ56j3k6l8avWR27LRpZUuQeCARgmiYaGxsRCATwne98B7//+7+fsTw3Y+6ZohhGgU3otodeX1+fRujZoFRIeKeA6hh5Xivl8bOk5cbjp77LPEieweEsJ4pCyDxAXlhe5sHziFY0fMCLfqhCZhypGDGqhMvWx5IwTzabn01n5ao8B160RhZlEKVrlBZKitzn5+dx1113AUgcRvL2t78dP/3TP52xvEJ47pnCbX2WZcHv9yMcDuPJJ59EfX09urq6MDQ0JN0P3S6vkRuIQrnO7xSRU8TqxmsUdfBUHSxEkQQq2sDmVSFuN0YIq5OsLexrlHeqEtYWfWeNG4rsKB2o/DxjiLoPgL5f1UgEm19k/PDy8srx/u5U7CbHpaTIff/+/Xj++edzJs/NmDuQGQHm0yiwLAuBQAALCwtYWlpCXV0dPB4Pzp49q0ToTh3doNhDDYVANvdHdZiycLpK582SB897F3l8PENCJIeSxyNJXiRClpeXj9VHpK9dhmprlTSZNy4jLiqy4dSNTWf1pupgoxaq4BlVqoYdpR+lK1tOJaKhURooKXLPNdwuhSskRAQaCAQwPz+P5eVl1NTUoKurC4ODg6ioqMCTTz6pd2DKEtk+a5HnTnWSstpk+SkS5uWnOnsVYqXghuxEXqAKIYjaSnQfPMJlZVHeqyid0k9krIiuy6IlKvIoWbx0mVHFGgGidqOMR57hqVFaKHty3ykT6uzlaktLS6iurkZXVxcGBgbg9Wb/iNzquBs891xCJbxK5adIWtV7ZdOcdYk6d6rjFoXjWYiGBXiGhYrXT+nCMwqonp.BIAqN88LPPFCEqGJUUW2q0t6iULiqAcTeLy+yJCJzSo722ncGyprcnUe+ylBocjcMA9FoFGNjY1hcXEwS+unTp4WEbte3m8aOSgk8cqCISNUjdxOa5XlSPK+eqpcnT+WN4hGLTC51byzxUG1HyafaU2R0OPO6NRjYNJ5OrH6iiIDzmswTVx1C4BlFvHpYHSh9ZdES3QOVNsqa3N2OuRcCwWAQCwsLmJubQzweR2trK06dOoXKysq81ak991Rken8ikobjmswbFHWasvpF3i6bT+Q18urlyRLp68b7o+qWkTUFt4YIj/xFRpmzLAueJ6tSlooaUG0gIn9RpEL0jHnvBmW0OvPz7kGjdFHW5F6oveVl5UKhEBYWFrCwsACv14uuri4MDw9jaWkJvb29Oa9PIz/gEYFKR0+VlREYRUgqHrEzn6iTpyDyZnnerchYYPOrpssMKF5e6llQXisvjTI2RPKp6zyCVmknkY7OMiqRBB6h86IoPONH1UjUKC1oct9Crg+OCYVCWFxcxMLCAjweD7q6unDy5ElUVVUBANbX113XlSkyuTdtQKiBHb+0//I6ddlnKlQNIp+zHp4+Iu9OdI2VxRI463GqRBx4kBkvMogIU0TOzu8s8anWx3tmKnp.dal4yCpRApbU2feIffYqnj6vDo3SRdmTe773lge2iTAcDmNhYQGLi4swDANdXV04ceJEktB55dygEJ57puP5O2kuQC7bkPX6RN4OmOsiApeFSmXemkoYnCImGcHyDBQbqp6qs71kbw3vOtXeoigJL6/baIqI0HmRHLehdwqyKAFPX5VyPO+dKqNR+ihrcvd4PHmfUBeNRhEMBvHMM88ASGybe+zYMemZwYUMrxczlG/vpufz+eDxeJL/KioqUr6rpOXKcMiHAcIjDYBP0k5iEZE9jywoWSx4+UV6gUl3C9XwMxUmFhEU+9nOzzOsRMTHC1lTbZwNRO8FT1cqrw3Z8IbIYFIty9YtM5w0ShNlTe5uw/KqhkAkEkmG3G35KoSeCxTKc3dbBzuLPxQKYW5uDouLi6irq0NXV1fS2DJNE7FYDKZpIh6PJ9Psf7w0EdwYC2tra4jFYohEItx8Ho8H1NMUeT32d5lnSMlMaUuF+nhwGzYVkU02oVs3BogsvMzK5A1HqBCzylutQqpuvORMdBF5/DxDwE07894r3nNTiRq5gR72yz80uSsiGo1icXER8/PzME0TnZ2dOHLkCLxeL1544QXXxF6OnnssFsPy8jLm5uYAAN3d3cmlfV6vN2+b71iW5np.sPWIRqPCfO1EXTzvmfIEZSFXahxU5JlSdYHIL4KIBFiv3m3oVpSXajdR+JyCzMsVRSXYOtnvPGNBBbKQPyVfJEflOcjKUs+ZZwDx7p1H/vy2cUf5O2UIb6eirMk923XuNqEvLCwgFouhs7MThw8fRm1tbTJPPB4v6T3p812HZVlYXV1FMBjEc889h66urrQ2yjcMw0BFRYXylrwbGxtobW1FZ2enOOP19CQesbMdvIhERQYCRfBsWVYP2WeqU5d5uTyjQkaWzvvh6e7MI/KAqbJs+1jMX55BpdpGPF1FBo3smlNnagiCvSeRPJEhJCJ453ee8en2WdC51aA99/yjrMk9k/PcY7FYktCj0Sg6Ojpw6NChnJPVTvfc/X4/5ubmsLy8jJaWFlRVVeHMmTM52VEv38jFka8sSdrged4U2A5WNaSsQjSUPqKwLi9dFIaVedsUWYmiBTwdZJECnjweWbPGGK8OnmEkqpOtS3ZN9J16d3htIYuIUGXYOtg2Eb3XNNQ98Z00+XanovR74iygOls+FothbW0NPp8P8/Pz6OzsxMGDB1FXVyctW4yd7QphFFB1RCIRzM/PY35+HlVVVejt7cX+/fvh8Xjw9NNP78ofK+slUcQBRx6A34nLSJDtdKnOXzXkKpPLllUhZifctAcLXjhZRLIy3Xi6yDx3ETlShhNPB55H7eZZOqFiJPGeK5WX8vpVIwg8HWTYjf1FIVH25M7z3O3x4YWFBYRCIdTU1KCtrQ0HDx50XU+ph5gy2aHORjwex/LyMmZnZxGLxdDd3Z2yXj/TOnYqRKFk9jov1CojJxHpyUhSlbTYDp/9LAvXiiAiDyqfjPRlnjNlHAF0GZEhI4vA8CAy2mRlePXJyvP0p56hLPLBM1J4xgj1DibyufPci4HdZFCUPbk7PXebqObn5xEKhdDe3o6hoSE0NDRgYWEBm5ubruvI9GUpZc/dHp64fPky1tbW0NHRgeHhYdTX1+e13p0AHtE4O1CRN6bSqVPjobxrKgRAgRcF4JGdircsgsjQoKA6vEHpKzIGePek+ouijCYR4ak8fztdFr1h5VH6q7YxTzbvucuiOIl09WOogd1FtMVAWZO7YRgwDANPPPEE6urqsLm5mST0+vr6tJcrlzvU5QuZ1KdqEASDweTytUgkgq6uLhw6dKjsfoTZGEgighGFYXmyeGUpiAhZbUw0vS6nXJFX70Y+K5dXXtQ+KiFfN948m86rT3aflKcsM5RkOlMEKirDay+eQSTzykXvERUh4MFCHI8//njyu2hZKpA4CfP69euu97tg08qtf8oVypbcv/Od7+Dee+/FxMQEvvvd7+L/+X/+HzQ0NHBfhFI6z12GXHru0WgUCwsLmJ+fh8fjQU9PD86cOYNnn30WbW1tynLKMSyvQg48j5EN8drXKdkyI0DFQ1T1QmVPiIo6sHXKogc8YlYhKV5bUfl4pCqqiwpVqz4vVhbv3aDyyiIk2RC7Mx8vaiTTn9LHrRHpgRe33357or6t5am8ZanhcBg+nw9NTU0p6fF4HNFoNGf7XziNgIqKCpw9e1aYv5xQtuTu8/nwG7/xG7hw4QI++tGPSvMXmpwKGc5ny5imiZWVFczNzSEYDCrvqrfb4Nbzsj/LvD/R2CcrkyJRGRmwOjnBC7uy10UkqBKV4NVN6StLZ0lWJWTNyuCVUSFOKr8oEsHmc6ap6ATmOq8Mz0jgRSachg+vLrYMTw7Z/o4+TbY8NRKJJI+5zhecBkY8Hi+5E0LzjZIk93g8jnPnzmHPnj34xje+kZGMu+++u+SXWxTSmLC3gZ2bm8PKygra2towODjIjWZkdCTqDvHcs10K5wSv8+Z5wKphfaospYNKnSLwhgZ4OlJGh4psERmr5lOJbDj/Unmo50dFJti8TqOHFz1h63JzjRf+lkUgnHlUyJlXt5t258p18ZMqRF/hNDAqKythmmZJ80GuUZLk/md/9mc4cuRIyZ+clm19mZZzo2c4HEYgEMCFCxfQ0NCAnp.eHDhwIOe7xe2GH41KZ0d5WlQZ5zVKBk++XY7nGTqv8zw0Sk9nGk9fFiKv3kk2bshOFFUQgfJoKU9eVLcoXTbUwSN8FeNKVKfo2bN1qEZ4ZDq5jUQl4aEPyKJQ6o5XOSA/+4FmgampKXzzm9/Ee9/73oLWW4wx43zVF4/HMTc3h+eeew4XLlyAx+PBoUOHcPz4cXR0dCgRu/7hpYPn4YrGWdlOn/ed9yaw10TEzdYvgiysrALefYvayQlRxEK1jZw6OD1rnvdOyRbJc/5VaS/RPbPt5ZQpijbI0njDKJRckVFIpbt6J6yYm9waeUbJee4f/vCH8d//+3/HxsZGsVXJK3K9FM6yLPh8PszOzsLv96OjowMjIyOoq6vDpUuXXO8cl+24frmC7fB4HiKvE1UNA4vqF4EX4uZ56SJ5vPFdmU689nDjhfLqkRk1FNGxdYmMJSp6kUnUxXnPvGfCM9xEEEU2qPdL5Vk475dqYzYqQ9WdSKwUK++sU3vueUdJkfs3vvENdHV14ezZs3jssccKWvdOJadAIJDcBrapqQl9fX1obm5O+eHs1HvLF3K5FE6FFHidOwT5eHU766E6Wp5RISMXXlhZJeQsCu+7ySeDanTDWSfvO5vOGgY8qBA+S64q9ykyfGTGBq99Re3Ne9dk76DwXircBYI1uecXJUXuP/zhD/HP//zPeOihhxAKhbC+vo53vOMd+Id/+Ie8112MMfdMPfdoNIqpqSnMz8/D6/Wip6cH+/bt485MzXRtfD7z7wTwPEtZOFaF2ChQeanwKusNUp9FevJIQ0QibsP4lFfKy0fpyLvGprPk7PzsRjZlOPHul1cXrx3ZMqw8ng6UHtS9Uc+c0oVnaPDqdPPMAABx9f5MOxv5R0mNuX/qU5/C1NQUxsbGcP/99+M1r3lNToi9HF4k0zSxuLiIlZUVXL16FZZl4cSJE7jlllvQ3d0tPRHNbRuU82x5Vah6Ngbzz5kuCpOKogDsdyqMSukj80B54VpePTJvlufVg0jntSdFNqJIAVVWFhXgtS0rj3qOqnrx7oXVk2dgOA0Vnp.uYpxROouiPWxkSRTREf7CK+RncaToVoYOQSmhpDz3XMPNy1OKnrtlWVhfX8fc3Bx8Ph/a29vR1NSEwcFBNDU1FUhTDSdYz4nylth0XnleB0t5ZlTdFKioAQWeJykjVVno16kD5WGrQiVSIIpuUGRP6cZra0jSRZ6zijxnOQv85y8zWsBc431nPXfRO0aVYd932lCLcjQj8paZI1CKKFlyf/WrX41Xv/rVBauvlMg9FAphbm4OCwsLqK+vR09PD0ZGRmAYBi5fvpzTukRl8l1HsZDtmDvVinp.rs40KqzrlM0zHHh18+qUhaZZUB6gzPuWEbAIPC9SlCbSXRQJYQ0ySD7zQJGuyLtmITKgqCgP9dxVninP+KCus3XwDCve/W4L0hPqSgklS+7FQDHJyT5Hfm5uDgCS28Cys9yLeeRrKckrFYgI1dk5g0mXyRMRGQ8UIYo8SVn9VHm2PrfEkwtvXkY+VH0UMclCzzwjjs3PlmPL2Nd4BCyK8lB6sPdH3a+orVSMRl57ClHp7mApTe75hSb3LRRjb3nTNLG8vIy5uTkEAgF0dXXh8OHDqK2tzXldO9EgKEWICE3UocKRhy2nSvoiQqE8NVkIny0nus4aKs7rKvXw6uIRKc9TFEVIVLxXlWELqhwLyoiT3Z/KUAMFUduzstkhAlFdvAgR9Vfplx0PquRKyNsFfUWxocl9C4UMK/v9fszOzmJzcxNLS0vYu3cvGhsblQyMQumpZ8vTELU81THyyMuWJeq0nTLchtdVCZcnj2fAsMSnGoJW1cVtyNn5nfJoeXl5YGXwyM6tUSMzuETGDSWHyksRPCvL+b7xIkvgpInSAQCeZiqVi93SZxQLmtwdyCdpRiKR5Dh6dXU1enp.sLq6ikOHDuWtThs7aTy8EFBtD1Vy4JEK1RHyvCRVT9BZH9XZCztfgf4UGVCyRRELSqZIFxWiovQW3bOsPC/87dYYEkUAROF+HmHzZFP3wSNxVpYoqsOC5/XL3sUUvQ1TIddWXt0f5R2a3LeQDysyHo9jaWkJc3NziMVi6O7uxi233ILKysTEk7GxMdcyS5WoZXqFw+G0M5lL3XKXhVntv27HL2Vk5+Y6W6cq0YsIyCmbrZuSQSFT44C6D5W2k+lFEZdIlqpHzquXZ0yw74IIlKHCi/aIojiUTjzjgKqD966kV6b+e9YT6vIPTe5byBVpWpaFtbU1zM3NYX19He3t7RgeHkZ9vbvJJrlEsQyCeDyOhYUFzM7OwjAMeL3elDOZeXCewcyex8ymZXI9G/C8I+dnKgyq4gFRJKZCGG7AkpwoOpFpPTxCExk9KqBIzU4X5VMdOpCly0hOFDmg9HQjm62DlcfTRyZDFIFg70eKKnfHt2pyzy92BbkXwkrc3NzE3NwclpaW0NDQgN7eXhw6dCjn9Zaq5+6E3+/HzMwMfD4fOjs7cfToUdTX10s32gGQPIPZaQTIPkej0bQ0UZlwOAzDMDA+Pp5St31EpG0IvJSjI+U5p90HJ7/IixeFx6lOVhRO5nmnMuIWGRW8vDLw7leZNEDfD0XgrFGlalDxvovq54FnkMmiPpQc1SiQyAikvlNyee+fMmJ+5azF6sN2k0FR9uTu8XhgmqbUY8uENKPRKBYWFrC5uYmrV6+ip6cHZ8+eVSKxQiKTe8sk/8LCAlZWVlBZWYm+vj4cPHgwo4l59hnM+cL4+DgqKirQ39+fTLMsC5ZlpRgHuJleVtVr4pGx85rIU6LqU+lsVclfFNp1evaZdIWicLWbvDLC44WRszF6ZBARrizKwososMTPC5fzPrt55lR+Sj+ZUUSiskU5qw7L5x9lT+4VFRWIx+PSU9FUCdA0TaysrGBubg7BYBBdXV2oqanBqVOncqSxGKXmuW9sbGBmZgYrKyuoqqrC8ePHUV1dXWy1XMMwDBiGITcCme8i8hYZAjJP1JnfQjopULqw8nlvicr4rLNuHmFkElandJGFlFkdKI+VFz2hDCoewaqEw0W6qkQIVCIXMm+dl48X2WHLseV5BpMzn1LEomLn/e7LGbuG3GUQWZGWZSWXr62urqKtrQ2Dg4NoaGiAYRhYWFgoaUs01zvUxWIxzM/PY3Z2FtXV1ejr60MsFkNvb++OJHY3EIVW7etUGpWXFyLnEZHzmkg/2XU312ResgrBq0QbRATJI0GeXjxSF+nDi5ZQOrIQGQiqPYKsfiqvLIzOtqvbIR02TXovZliWY1teCfeX5YJdQe6iyVtOsAQYDoeTy9dqa2vR09OD4eHhrCdlZYNibUhjWVbSS19fX0d3dzdOnjyJqqoqAMDCwkLedcoVVDsVXmdNEbczP/WXKs/rfEXePaWXKJTP5uEZGFS9VJ2svm68cSofpScvjdWTzc/7zMpwQ/R2WTdRGTYfLz+rqxtDSRaVoL4766PePbfvQhrq9km0Ly52mzFR9uTu8XiUPXd7zNXeBtY0TXR3d+PUqVPJ5WuisqX88mRqEMRiMczNzWFubg41NTXo6+vLy0TBQkOlPVTukCIVt56zzDOlOnKZnqI8lAEig6gOHjHAcZ2nh2pdrCweAYuGI1Q9cVE5WTtQ1ygD0PmdlSN6dlSInvcceWlsGRmxy96/JGJrvCtpKEZ/WUrDmYWAJnckHrrP54Pf78fTTz+Nzs5OjIyMoK5O7QjDQo6DF+IQGHvG+qVLl7CxsYGenp.ULz1XepUDqM5WFFYH0jtUkVfHpvM8P17nLCJakUfK1qVKHjzICFsUwRCRp2qdPBnUfVPlnWUN0G3Di2LI5DllsPWw13jPiGcYOCEyKqgIg+o9JlHZILqars8OdxBKHWVP7qKwfCAQSC5fa2xsRHV1Nc6dO1eWL50K8Uaj0aSXHolE0NPTg8OHD5dle2QDVc+UKsPrMNlQKSvfrUHAlhXpxNObJRWqvGzcVkYIKqSqnp.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.h24KAzvlKVKlrzQtUr4m0cuFDmp6ETJnp.nrrOhY1EoXvadrUtEcFRb8aIKoraiSFdGrOx7wDMm2XzO/Lzy7HeR4ZgGF/toANDknmeUFLnnAxUVFYjFYsVWIwWmaWJxcRGBQABXr17Fnj17MDQ0BI8nP6Mku5V48wEVD1TUKTvzquYTyaXIXoXkKP3dkhn7mQdeHlH0gleOR2wswVN18chQ1Ytl5fB046Vl4m3z8oneM1tPKo13j7xyVJlcULLuj/KPXUHupTLmvrm5iZmZGSwvL6OjowO1tbU4efKkq9B7oZfdZYt4PJ48kS8ej6ed3VxRUUGmqVxjz3rONWTkS6XJQtG8MVaLySPqtDMJwVL1s2Wc11k93XToKt4wW6eIPFT0d8qRDTnw8qgQr4hwVdrbzTXKMKAMERnxUgRNefg8XVh9ckXu2nPPL8qe3Iu9zj0ej2NxcREzMzPweDzYs2cP9u/fD4/Hk5w8mG/k+gx4lTpCoRCmp6extLSErq4uHD9+HHV1dWlnO8fjcTLNPts5HA4rleHdH2UI2DKj0ajQoOij7hPycC7bmnp.XhaydcoUleeFWUWgiFTVu3RrgMiiDjyISJv9LhoWEXnosmclalNZuF9kbFHESkVsnOVUPG+esUnV7Sbyk0uC1+SeX5Q9uRdizJ1CIBDAzMwMVldX0dHRgSNHjqC2tjYlT6akW6ohLfuwmqmpKUQikZThBo/Hwz2KMZ/6UEbD/Pw8QqEQWltb0wyGSCSS/E6RO68zdH6m/jrz23KcRCMKo4oIi5UrgyxKoCpT5OmxpCCKasg8RipNZMyIjAAIrstC1iLDRES6sneBend4BhZr5FB1qkY5VMmaR/DZolT7sHKCJvccwCZcOwQ9OzuLiooK7NmzBwcOHMhpyLhQBoGbMvF4HBsbG5ibm0NzczMGBwfR1NTkqr58wDCMpCfuhN/vh8fjQWdnp.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.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.czPz6Orqwv79u1DJBIpeWLPFpl47UBqR82So5PQ2LxAqjzR+CmbThGdzACQEYYscuAmFM7TUUb8Ii+fp5ss1J7JkIJMtlNnngyePGeazAChiJnn4VN1s9dUohvZQnvu+ceuIPdChOWj0Shu3ryJxcVFdHR04NixY6ipqcl5fZnqmKt6gsEgJicn4fP5sGfPnuREwIWFBUQiEdd67TTIPDqV8UyVMLZK/bLOnVee6vBl3ipFMKJ6eLpS8nkhZhWSVfFqnfl4+WWeuwhsG6lGUCiPmWrjTCB6xiIjg9UtXy6JnlCXf5Q9uedzKZxlWcnQeygUwv79+0ty1nsufkTr6+uYmJhAOBzGwMAADh48mCJ3J62Lz/bIV4Af6mU7RbchXtW6ZeTFI0jeXcs8NxVy4ukqCz+LdBHl44XYVeWoREPYsjKDTNRusudO6cArz7tP6jmIDFCescgaKvmgYU3u+UXZk7ubsLwqTNPE/Pw8pqenUVtbi/b2dpimmTzwRhWl7LkDiftcXl7GxMQEKioqMDAwgJaWFtdyyg0yslIJPYvyU2VVwvHOfBRB8zxkFZ0oD5Pnqaq+aSKCpDx0lqhk7akS8s80aiIaemH1kcm0kK4rpbPsvik9VI0753Xeu5FLot8pjsBOxq4g91yF5cPhMKamprC0tITOzk6cOHEC1dXVWFpawvr6eq5UzjncWsimaSIQCGBxcRGtra0YGRlBfX19nrTbeVAhZJlnR3mdzu+UHIpg2XyqnqFK9IDnvclIjTJCVDx8Z3meMcML4zsNGlXvnDJUVImNJ4u6RkE2bEN517xhDOdfKp8sKsOrmyorQiAQSNtrQtT3aM89v9Dk7gBF7pZlYW1tDVNTUwiHw9izZw+Ghobg8Xiy1q2QM99VEIvFMD09jbm5OXi9XgwNDaGnp.dveu1E8DxKgE9gMoi8Tnp.p7x5ClTolZWtYiDw6nAbtqXyuIlyUGUoA0JUH1+WAWtLQnrb0zXy6lMZ+rBTtmuljQyKjKl3ji0vql/2HGRyeLh+/Xra3hIUPB4PAoEAzp8/j8rKStebUFF5c9Eflxtck7sKUbzqVa/CY489lok+OYfbI19txONxzM/PY2ZmBrW1tRgYGOCu285qDLdAhCiqJxQKYXJyEqurq+jt7cW5c+cwPj6el3PiSwG5NEQoYhZ1xjLP0M5DlWXTRJ2wm3C/s04eQfGiCKy+lEwqDy8frz7KqGGJnd+221dk9+VEaikPDLBOggeAyWmzdG3S79dy5EjQPN9gShgC1D2Ia02tn/dMKG/fLcHfcsst0jyWZcGyLDz99NMYGRmB1+sVbkIVDoeVNqmifs+GYaQYAgcPHkR1dbWLO9rZyEvvXUrjsm6XwoXDYdy4cQNLS0vo6upKht7zgUzCUrkkJr/fj4mJCWxubmLv3r04cOBAVhbwbvDcgXQv1+lt2ded10ThVF74VVa3ipEggkp4lvddRKS8/FQ62z7ONBGxUzrwPF2WDvl6W1wjJQGTeEaJFJuUU2UTZEPWa1+TEXe6ieeMNVDlne3LSqGiBCA+5xr2GREejwfV1dXSFUXZwDTNpCEQi8XyWlnp.jW5Ux34V7/6VfyH//AfAABNTU340z/90+w1yxFUyN2yLPh8PiwtLWF5eRn79u1zFXovlaNiVeqxLAurq6uYmJiAYRjJSXLZnj63m8bPKOJiSVrkIbKERoXZKaJnDQIV75UXgufdD5uXSuOFd2Vvi4qHT5N3avgaoAmJbn/au+a1k7Nu51WDbDWL1J2CyBOmDD0Z2PbgPTMZqPeUJy+XKMRSODtc7/V6UVVVtetC91l77jdv3sR73/ve5Pf/9b/+Fw4cOJCt2JxBNOZu7642MzOD+vp6NDU1obu729Ve70DhSDqbukzTxNzcHKamplBXV4fh4WE0NDQI6ylX5HIpHEUSlGTKE5YRPM+r542P8sjeWb/srlkP2S7LI3uqDjaPzMBg/ep0Ik7XmirDtk0ij5lWtwzp9+P009Pzpaan6kOBZ/jxjEJwrm2nWeQzYN/VwvRQ6ijnPqYUkBW5RyIR3H333VhbWwMAvO9978Pdd9+dE8VyBWr72WAwiOnp.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.F5qHq4qWJwJIFFep3cz1V2/RPzvugog8yoqPaQXRfTt0ssGPv6caC2JjywEl3qnqIojlsHl47UrLEvz71veV54F0TRRpyScea3PMLTe4OFON0N7ucvRXu9PQ0WlpacOTIkZztG5DPY2JF+S3LwsrKCsbHx1FdXY22tjZEIpGUE52cJzvFYjHuCU/sEY9erzftGEiRweD8no3RIvLgKO+G6vRFXr8oHxWG5snme2qpOVjPm6Vs2jOnvON0j1dE7HSIONV75XnOfM8yfQ96cVlW+3S/PjU1VQKvraj0dOnp.Wx0gX1SqYaf2t7yshA7Bd67I6pLo/SwK8i9VCeTGYaBeDyO0dFRLCwsoKurC6dPn0ZlZWWONSwMnIfTLC0tYWJiAnV1dTh8+DDq6+szvi/LsqTHPtr/otEoQqGQMK+d5/HHH0+phzUEbiV0EY1DUmFklhzZfBRhUyTNplGhXZ7sVL0SOal6xJ45P9JgcY8+TaRTBgJ1j6kGCP2bFbUR+zndlEm9s9Td7FLvOVVWeorIqOGBF9Gha6DzUs/AeZ9sG7shYuo52+lq0QSNUkLJkfvb3vY2PPbYY1haWkJ/fz8+/vGPp2yY4xZuznO3l5m5RSaecTAYxOzsLPx+P4aGhnDu3DlUVFS4rjtfyHQp3MLCAiYmJtDY2IijR4/mJPpgn8ucq/bx+/24ceNGyvnTlAGB6+lleS3iJB0eyfPKOK/zSJwi823YtC07tnQ7VeydmWnXRB2/rWH6RDingUCHoGnINrHZNhoobdh7orduTfW22TKUjukkua1Tquz0u6PImU/sdOtQ0SKenp.hRxl8TnlgrlNGgfbYdw5Kjty//OUv51QedXAMD4WYFLa+vo6JiQlEIhE0NTWhubkZe/bsyWud+YZpmlheXsbS0hK8Xi95OE2pT7ZTNSCozs3ZEVLdslpImZbHD+mmlqA9cBsJMnSC19HT17fL0/J5k+7SzRGentt1UUTMpplMKh1p2K6DT5vbOogMI7E/TZGnyHgRSePVLCJy9jOP6KlnRxmjoneNR/oWSscx0Uig5Mg91yjEpA2ZUWBZFpaXlzE5OQmv14uBgQE0NzdjcXERfr8/7/rZOrqFjJCdx8g2NDSgtbUVBw8ezFTFHQE+KfG9bDfhV2ceiiDYsDLl6afL54eOxZ5pKpk688giEU796O+8NlHz7lOvpRP79nfau2afCW+IAJzvCZjku2Aw+oifo12WNlBkZdkSImJP1VFmMNLg9SLx4Q9kIE0jnyh7cneDXM+WN00T8/PzmJqaQmNjIw4dOoS6urqUPKXq0YraIh6PY3Z2FjMzM+jo6MDp06cRDocxMTFRYC0zQ7bbz/I8dZbgQfwFc52VIe50nevN03dlE9ED37OXzRBPLQ/w9Ustl047PKKjyCs1PZ2cecZUehrvvlLrp54TZQiJQuOU3NT7SNUxNV9qZCNdJj0jXlRDtj0Le2+i6JDZ/VNZ1qaRa5Q9ubv1WHNBttFoFDMzM5ibm0NnZ2fyvPhsdSs02LaIx+OYnp.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.luf5Ru6kjHo8jFArh6aefRl9fHxlxKBUYhgHDMKSTET0/5nvuNqgOnKU9Nq8txemJ8UiMKi8KZSeu8ffEL9QmNiqeqlO+hfS60qMRqXPT+TWmp4oIkRcx4YFHtkbK1XQ9WKOEqo+KSojajzQqqzsR6/4ZxM/+ZVHG1GXQnnthUHLkfuutt+LatWsYHR3Fnj17cP/99+O+++7LSmYphuVDoRBGR0exvr6O3t5eDA8P59WazSQsrwLTNDEzM4Pp6WkAwLlz50qW1G2oGkeGUQVYsbR0Z6fLJzK1DiyRK327UnnoPfNNbBJh8fR6qM88TzeVsFJD1Czp8kiUVzdbL2ts0CYIVY6uT3SNvUcqX+p9pEcsKPmpWqbqyms33vNIk2lUAoYH8b43ID7yG7BazxBaMHUX0XMuhcjBbkDJkbvX68U999yD173udYjH4/jlX/5lHDt2LCuZpRSWDwaDGB8fh9/vR19fH8LhMLq7u13JyFTPXP6oTNPE3Nwnp.am0NnZiVOnTuH8+fMlT+xuYCFGe0YZykst65SSTuzp3r9oTzIreV3k7W/LTw9BU9np.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.He3o5bbrmFG4Kyy7p5aQs9CS0cDmN0dBQbGxsYGhpCW1sbV99ynSAHZH5v8Z/4Z5jrl+H94RtgbE4A4HmL/NA061GzREj73KnX0svIQsZ8L1/mmSdk0pvYbEM+6Y4yKOj60mebU1TMmgD8yAnVWttyU+Wlk7WzrhTZnirAUw1YMVhttyHe+3qYXa+G1XQMMORnQxQTpfC7LnYb7AbsCnJXPTjGRjwex+zsLGZmZtDZ2Zncha1U4Jac7Aksly5dwtDQEEZGRvSPK0NYTYcRfe2zqPzBT8NYfVI4nkwRufMakEocPIp35qRC77zxZLass970KyLPPJNNbMTeNgTpqRGAdF3ZKAO/bHq0AI6U9KVw4lUDSWOoZgDm8Ptgdr0GVsstgLE7J2xlilIwLnYDdg25q4Tl7ckZTz/9NLq6unDmzBnl8Z5CnLHuFtFoFBMTE1heXobX68XJkyeV5wiUs+eeNbz1iL7mX+G59lfwvvg7MKwogFSSoFqO8mjTyVK+HlzF+02tQbSJjcchmbrOG1em69/+zBojmW1iw6uXNhoyO8+d1X+7XgOo6YbZeg5m56tgdb4SVvPxrMi8FELSxdah2PXvFuwKnp.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.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.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.Gnv37k1+7+/vx49//OO0fF/72tfwe7/3e1hYWMA3v/nNrOosJnYFubtd5y46lCXbGfBA6mS54eHh5FGE9sQdqgNml62xnbOb0K+K4WBP6vF6vTh16lRBJ9JQCIVCuHLlCgzDKAl9IpFInp.4sfWxz04YGxtDKBTC2bNns9JHtkEOb7yYDQPbExxramowPj6OqamprHbUy8aLsiwLo6OjWFlZKfjEMJ4+k5OTmJ+fLwl9gO2Jc6dOnnp.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.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.E5OYnh4WF0dnbmTHY2sPfOX1pawtGjR7k7ulHnW2dbryiEG4lEMD8/j1gshpaWFvh8PiwtLWW8VFIUYXCzAVMkEsGFCxdQX1+Ps2fPlkwYnreNbLFRrIlzTuPxypUr+NKXvoQHHnggxaPOF1TWsff396OjowP19fWor6/HK1/5Sjz//POa3AnsmjF3DRr28/+N3/gNzM3N4Xd+53dQW1ubMgfBHo5wGg/Of36/H8FgMBlRABLRDmp+AmswsIZDY2Mj6urqYBgGXnzxRVy+fBm33HILDhw4UBK7lAHb3np.ZyfprRcLa2truHTpEvbu3Yu+vj4p8aoslZTNLHeCtwteNBrF0tISuru70draWpSlkhSWlpZw7dq1vG8j6xZzc3MYHx8v2sQ5y7Jwzz334Lvf/S6++tWvFmwXTJV17JcuXcKv//qv49vf/jYikQhuu+023H///Th+/DgA4Mc//jFe/vKXIx6PY+/evbhw4ULKPJN3vetd+MIXvgAgMZb/R3/0RwW5tzxCT6jTEGNjYyNns+Aty0IoFCINAyrCYBsI9ufNzU3Mz88DAA4cOIBwOJw2edE5wVG08qGhoSFJvtmSh9NbP3LkSMlMTrMsK7kc8NixY0WbdU4NP0xPT2N9fR19fX3JPRJ4xgIvqpDJkklRVMG5jezx48dLYgdDYFuv9fV1nDhxoijGbDwex+/+7u9ibW0Nf/u3f1vwib0PPfQQPvzhDyfXsX/0ox9NWccOAH/yJ3+Cv//7v4fH48F73/tefPjDH06R8du//dv4kz/5EwDA+9///mT5b33rW7jzzjsBJA4Ue/bZZ0ti4nKW0OSusXPwm7/5m2hvb8d/+k//CZWVlQiHwynGgXMiIzss4Uzf2NhIm9Do9XrJIYfGxkbU19enrXqw/42OjuLRRx/FO9/5Tuzbt69kxmWDwSAuXLiA1tZWDA0NlUwUIRwO4/z582hubsb+/ftd65WLpZJO2MvPDMPAxsYGqqqq0N7eLt2lsRA74AHbE+eqq6sxMjJSlJUWwWAQ733ve3H48GF88pOfzPm7JFvD/id/8if40pe+BCDhxV+6dAmLi4uuVy2EQiGcOnUqOUfnkUcewblz53Ds2DFMTU2hoqICjz/+OG677bac3VsRocldY+eAOgMgFzKB7QmNopUPziGHtbU1PP/881heXsbIyAj+//buPqbq8v/j+AvFEiQy59xEcuKXiYIIZRlgks41jREpuYJUoqYukc37aSvWMmdhS8twLQfJMhQX82Y2wZyK02yIbWp5A1jgLZqiKAQOyPP7w985HRTkA54b/PB8bGzEOZ5zUXle1+d9Xdf7U1tba3tNDw+PZicf7Pcj3Ds5aGkpoqUNje35faw3DBk6dGinuIGQVVVVlUpLSzVkyJBO0QLYuqnR2oRpwIAB8vX1bdd5dXv3dsBr7ymIe0PTyMY5Z6uqqtLUqVOVkJCg2bNnO/zvn5Ez7PZ27Nih1atXa+/evR16v19//VUvvvii7ty5o4CAAEVFRdkmDosXL9bKlSs7/Lt0MoQ70BH5+fkqLi7W+++/b9s9b7+h8d7lhtaWH1r6amxsbPZe3t7ere5NsP/+zp07yszMVEpKikJDQ9W7d289/vjj8vDwcOvZemu7XWsHvM5U8nRkG9m2OuC1p6mNtRGTj4+PvLy82r2x0RFVhfLyck2fPl0fffRRs3t5OJKRM+z23nrrLY0bN04zZ87s8HsuXLhQq1atavazoKAgHT16tNN0Z3QAwh3ojKx//ywWi+0oZGsnH2pqavT7779r9+7dGj16tLp3726rONy+fVuSbJsae/bs2WqzpbYaL1k3NFpfzwjr8kCfPn0UEBDQKRr4SHcnHGVlZbp9+7ZCQkI6zaZM6b+NcyEhIerRo0eHNzbaa+uopLXT3ZkzZ+Tr66uqqiqlp6drzZo1GjdunNP6WeTl5amgoECZmZmSpA0bNqioqEgZGRn3Pbeurk7+/v46c+bMQzUSqq+v1/Dhw/XXX3/ZfvbLL78oKiqqw6/ZCdHEBuiM7EPUemX+oNLs8uXL9cUXX7R4wxD7iUJ9fX2LVQTr99euXVN5efl9xyRrampUX19/X4fGlioI1knCuXPndOzYMS1cuNDWk906cejVq5fDNjS2l30bWXetY7fEfuOco2/VaqT73eXLl7Vv3z5VVlaqrKxMgwYN0sqVK5WWlmarJmVkZDg0BI2cYbfasWOHRo8e/dAdAquqqu67n3xJSYnZwr1VhDvwCPnwww9bfcx+omA9B/wwN2KxfiBbTz5YJwbWDYvXr1/XDz/8oAsXLig2NlZ79uxpsZWztYGOxWKRp6fnA1s5t3Y80vqYkVbO0n+dDDvLur+V/ca58PBwh084jDRgevrpp3XhwgWVlpbq0KFDLukdYeQMu1Vubq4SExMf+j1nzZqlW7duSfqvorVgwQJNmDDBLXfTczXK8gA6pKGhQRs3blRSUlKbO6vtNzQaPflg/2Vt5Wxfhu7Wrdt9Jx98fHx09uxZVVVVadq0afL29m6xEdMTTzxhC0BXXdFbN875+fnJ39/fJe95rzt37mj58uW2BjWuOjZp5Ay7dLdXQ0BAgM6fP/9QeyOys7P1zjvvSJKio6P16quvavHixZKk2NhY7dixo+O/TOfCmjsAc7B+ZjU1NTWrFFy/fl3Lli2TJE2ZMuW+ioP9c2tra+/b0NhSK+fWvr+3lbN182BrE4WzZ8/q0qVLTrshjRENDQ1KTU1V79699eWXX7p8/4GRM+zZ2dkqKChQbm5uh9+nsrJSwcHBqq6ulpeXl44fP67BgwdrzJgxOnTokKS7a/7Tpk17+F/K/Qh3AOZmsVi0d+9ejR8/vl1/Rrp7RfvPP/8YarzU0j6FhoaGZuvKPXv2tE0Abt26pYqKCr355pvy8vJqtfGStaLg5eXl8FbON2/e1PTp0zVhwgQtWrTI4dWKts6w37x5U9OmTdO5c+fU1NSkRYsW2a6sHS0uLs52Zb5q1SrNnz9f0t2bzoSHh6u+vl59+vTRiRMnHmrZqpMg3AHAmew3NNbV1ammpkZr1qzRgQMHbCVhI62c6+rqmr2mtZWzkVtO37v00KtXL9vtWufPn6/ExES3nGFfsWKFbt68qfT0dF29elVBQUG6fPmyw7sD5uTk2K7IIyMjdfDgwWZLRqtXr9aCBQskSZMnT9aWLVsc+v5uQLi7Q1uz2ZycHKWnp.uSfHx89M033ygsLMwdQwXgBCUlJQoMDOxQR8N7NzQabbxkf8vp+vp6lZeXKy8vr10VjfYwcob9008/1fnz57V27VpVVFTo5ZdfVmlpaafpqPgI4yicq/3777+aM2dOs9lsXFxcs9lsQECA9u/fr6eeekr5+fmaNWvWffcvBvDoCgoK6vCftV5he3l5ycvLS/369evQ6zij46M9I/dhT01NVVxcnPz8/FRTU6PNmzcT7E7Gv10nOXz4sAIDAzV48GA99thjSkhI0Pbt25s9JyoqynY7x4iICF24cMEpYykoKFBQUJACAwP12Weftfq84uJide/eXXl5eU4ZBwDXc/ZpACNn2Hft2qXw8HBdunRJR48eVWpqqu2YGpyDcHeSlmazFy9ebPX5WVlZeuWVVxw+DmsFIT8/XydPntSmTZt08uTJFp+3ZMkSTZgwweFjAGBeRs6wr1+/XvHx8fLw8FBgYKACAgJ0+vRpVw+1SyHcnaQ9HZn27dunrKws2/q7IxmpIEjS119/rddff73Dpb/2MFJJKCwsVHh4uEJCQvTSSy85fUwAOub5559XWVmZysvL1dDQoNzcXMXFxTV7zsCBA7Vnzx5J0pUrV1RSUqLBgwe7Y7hdBmvuTmK0I9Px48c1Y8YM5efnO6WTlpH1sIsXL2rr1q3au3eviouLHT4Ge0b2IlRXVyslJUUFBQUaOHCg/v77b6eOCUDHeXp6KiMjQxMmTLCdYQ8JCWl2hj0tLU3JyckKDQ2VxWJRenq6+vbt6+aRmxvh7iT2s9kBAwYoNzdXGzdubPacc+fOKT4+Xhs2bNCQIUOcMg4jFYR58+YpPT3dJfcot68kSLJVEuzDfePGjYqPj9fAgQMlyanVhM50Phd4VMXExCgmJqbZz6yNaSTJz89PP//8s6uH1aVRlncS+9nssGHD9MYbb9hms9YZ7bJly1RVVaWUlBSFh4frueeec/g4jFQQjhw5ooSEBA0aNEh5eXlKSUnRtm3bHD4WydhehNLSUt24cUNjx47VyJEj9f333ztlLEb2I6xdu1bBwcE6duyYCgsLtXDhQjU0NDhlPEBn1NYy2o0bNzR58mSNGDFCo0aN0h9//OGGUeJeXLk7UVuz2czMTNstEJ3FSAWhvLzc9n1ycrJiY2M1adIkp4zHSCWhqalJv/32m/bs2aP6+np.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\n",
      "text/plain": [
       "<Figure size 1152x648 with 1 Axes>"
      ]
     },
     "metadata": {
      "needs_background": "light"
     },
     "output_type": "display_data"
    }
   ],
   "source": [
    "fig = plt.figure(figsize=(16,9))\n",
    "# gs = gridspec.Gridspec(1,1, fig)\n",
    "ax_idx = fig.add_subplot(111, projection='3d')\n",
    "\n",
    "spacing = tuple(obj.grid.dx.flatten().tolist())\n",
    "mesh = implicit_mesh(data, level=params.level, spacing=spacing,  edge_color='orange', \n",
    "                         face_color='orange')\n",
    "# ax_idx = plt.subplot(111, projection='3d')\n",
    "ax_idx.add_collection3d(mesh)\n",
    "ax_idx.view_init(elev=8., azim=15.)\n",
    "\n",
    "xlim = (min(data[0].ravel()), max(data[0].ravel()))\n",
    "ylim = (min(data[1].ravel())-.2, max(data[1].ravel())+.8)\n",
    "zlim = (min(data[2].ravel()), max(data[2].ravel()))\n",
    "\n",
    "ax_idx.set_xlim(*xlim)\n",
    "ax_idx.set_ylim(*ylim)\n",
    "ax_idx.set_zlim(-np.pi-.05, np.pi+2.3)\n",
    "\n",
    "ax_idx.set_xlabel(\"X\", fontdict = params.fontdict.__dict__)\n",
    "ax_idx.set_ylabel(\"Y\", fontdict = params.fontdict.__dict__)\n",
    "ax_idx.set_zlabel(\"Z\", fontdict = params.fontdict.__dict__)\n",
    "ax_idx.set_title(f'Initial {params.level}-Level Value Set', fontweight=params.fontdict.fontweight)\n",
    "plt.show()"
   ]
  },
  {
   "cell_type": "code",
   "execution_count": 33,
   "id": "57cc3d65-baf6-4088-a54e-9d3064c74a9f",
   "metadata": {},
   "outputs": [
    {
     "data": {
      "text/plain": [
       "array([0, 1, 0])"
      ]
     },
     "execution_count": 33,
     "metadata": {},
     "output_type": "execute_result"
    }
   ],
   "source": [
    "np.amin(faces, axis=0)"
   ]
  },
  {
   "cell_type": "code",
   "execution_count": 7,
   "id": "a7b3bbc0-b391-479e-bb98-352b4d1edc86",
   "metadata": {},
   "outputs": [
    {
     "data": {
      "text/plain": [
       "((100, 63, 99), (0.04, 0.03968253968253968, 0.0621908418849785))"
      ]
     },
     "execution_count": 7,
     "metadata": {},
     "output_type": "execute_result"
    }
   ],
   "source": [
    "data.shape, tuple(obj.grid.dx.flatten().tolist())"
   ]
  },
  {
   "cell_type": "code",
   "execution_count": 15,
   "id": "94140b7c-5a23-4d71-a26f-1d24ba4a1ab4",
   "metadata": {},
   "outputs": [
    {
     "data": {
      "text/plain": [
       "-0.9758325004892114"
      ]
     },
     "execution_count": 15,
     "metadata": {},
     "output_type": "execute_result"
    }
   ],
   "source": [
    "max(data.flatten())"
   ]
  },
  {
   "cell_type": "code",
   "execution_count": 13,
   "id": "093b0e70-f3f7-48ae-b7bd-f796a221ed76",
   "metadata": {},
   "outputs": [],
   "source": [
    "\n",
    "\n",
    "verts, faces, normals, values = measure.marching_cubes(data, level=None, spacing=spacing, gradient_direction='descent')\n",
    "# Fancy indexing: `verts[faces]` to generate a collection of triangles\n",
    "mesh = Poly3DCollection(verts[faces])\n",
    "mesh.set_edgecolor('k')\n",
    "mesh.set_edgecolor('r')"
   ]
  },
  {
   "cell_type": "code",
   "execution_count": null,
   "id": "5217f0b2-7889-4958-a7fd-49655212b11b",
   "metadata": {},
   "outputs": [],
   "source": [
    "fig = plt.figure(figsize=(16,9))\n",
    "# gs = gridspec.Gridspec(1,1, fig)\n",
    "ax_idx = fig.add_subplot(111, projection='3d')\n",
    "ax_idx.add_collection3d(mesh)\n",
    "ax_idx.view_init(elev=8., azim=15.)\n",
    "buffer_factor=1.05\n",
    "xlim = (min(faces[:,0].ravel()), max(faces[:,0].ravel()))\n",
    "ylim = (min(faces[:,1].ravel())-.2, max(faces[:,1].ravel())+.8)\n",
    "zlim = (min(faces[:,2].ravel()), max(faces[:,2].ravel()))\n",
    "\n",
    "ax_idx.set_xlim(*xlim)\n",
    "ax_idx.set_ylim(*ylim)\n",
    "ax_idx.set_zlim(*zlim)"
   ]
  },
  {
   "cell_type": "code",
   "execution_count": 46,
   "id": "3bb823ca-9c9f-4192-ace1-1f0f3506c515",
   "metadata": {},
   "outputs": [
    {
     "data": {
      "text/plain": [
       "array([[0.04      ],\n",
       "       [0.03968254],\n",
       "       [0.06219084]])"
      ]
     },
     "execution_count": 46,
     "metadata": {},
     "output_type": "execute_result"
    }
   ],
   "source": [
    "obj.grid.dx"
   ]
  },
  {
   "cell_type": "code",
   "execution_count": 47,
   "id": "26e7cd46-1488-42bc-923d-2bb7dde8a724",
   "metadata": {},
   "outputs": [
    {
     "data": {
      "text/plain": [
       "array([[0.04      ],\n",
       "       [0.03968254],\n",
       "       [0.06219084]])"
      ]
     },
     "execution_count": 47,
     "metadata": {},
     "output_type": "execute_result"
    }
   ],
   "source": [
    "np.divide((obj.grid.max - obj.grid.min),  (obj.grid.N))"
   ]
  },
  {
   "cell_type": "code",
   "execution_count": 49,
   "id": "b7a197fd-3d99-4642-82ad-5e5369e267fa",
   "metadata": {},
   "outputs": [
    {
     "data": {
      "text/plain": [
       "(array([[3.25      ],\n",
       "        [1.25      ],\n",
       "        [3.01530069]]),\n",
       " array([[-0.75      ],\n",
       "        [-1.25      ],\n",
       "        [-3.14159265]]))"
      ]
     },
     "execution_count": 49,
     "metadata": {},
     "output_type": "execute_result"
    }
   ],
   "source": [
    "obj.grid.max, obj.grid.min"
   ]
  },
  {
   "cell_type": "code",
   "execution_count": 51,
   "id": "07cf4fdb-b286-45c7-bbaf-64faac81f10d",
   "metadata": {},
   "outputs": [
    {
     "data": {
      "text/plain": [
       "array([3.07812614])"
      ]
     },
     "execution_count": 51,
     "metadata": {},
     "output_type": "execute_result"
    }
   ],
   "source": [
    "pi* (1-2/N[2])"
   ]
  },
  {
   "cell_type": "code",
   "execution_count": null,
   "id": "10cc7427-6bbd-4261-ba91-172c9b1d135b",
   "metadata": {},
   "outputs": [],
   "source": []
  }
 ],
 "metadata": {
  "kernelspec": {
   "display_name": "Python 3 (ipykernel)",
   "language": "python",
   "name": "python3"
  },
  "language_info": {
   "codemirror_mode": {
    "name": "ipython",
    "version": 3
   },
   "file_extension": ".py",
   "mimetype": "text/x-python",
   "name": "python",
   "nbconvert_exporter": "python",
   "pygments_lexer": "ipython3",
   "version": "3.7.10"
  }
 },
 "nbformat": 4,
 "nbformat_minor": 5
}
